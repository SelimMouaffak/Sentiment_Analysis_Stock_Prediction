{
 "cells": [
  {
   "cell_type": "markdown",
   "metadata": {
    "id": "kt1HhdW0-vlf"
   },
   "source": [
    "# Importing data and libraries"
   ]
  },
  {
   "cell_type": "code",
   "execution_count": 78,
   "metadata": {
    "executionInfo": {
     "elapsed": 10632,
     "status": "ok",
     "timestamp": 1638099770174,
     "user": {
      "displayName": "Selim Mouaffak",
      "photoUrl": "https://lh3.googleusercontent.com/a-/AOh14Gh7hSiofTadGlhaAhY7NhLkOUuHCsHhw3XP7YBc3w=s64",
      "userId": "09406084547179617328"
     },
     "user_tz": -60
    },
    "id": "jf0uiRTP-0pS"
   },
   "outputs": [],
   "source": [
    "import pandas as pd\n",
    "import flair\n",
    "import time\n",
    "\n",
    "pd.set_option('display.max_colwidth', None)"
   ]
  },
  {
   "cell_type": "code",
   "execution_count": 79,
   "metadata": {
    "executionInfo": {
     "elapsed": 13827,
     "status": "ok",
     "timestamp": 1638099787771,
     "user": {
      "displayName": "Selim Mouaffak",
      "photoUrl": "https://lh3.googleusercontent.com/a-/AOh14Gh7hSiofTadGlhaAhY7NhLkOUuHCsHhw3XP7YBc3w=s64",
      "userId": "09406084547179617328"
     },
     "user_tz": -60
    },
    "id": "ekkMS38f-22o"
   },
   "outputs": [],
   "source": [
    "df = pd.read_excel(r'Dataset_Needed\\clean_dataset.xlsx')"
   ]
  },
  {
   "cell_type": "code",
   "execution_count": 80,
   "metadata": {
    "executionInfo": {
     "elapsed": 3,
     "status": "ok",
     "timestamp": 1638099787772,
     "user": {
      "displayName": "Selim Mouaffak",
      "photoUrl": "https://lh3.googleusercontent.com/a-/AOh14Gh7hSiofTadGlhaAhY7NhLkOUuHCsHhw3XP7YBc3w=s64",
      "userId": "09406084547179617328"
     },
     "user_tz": -60
    },
    "id": "PsiZfktl_Lkc"
   },
   "outputs": [],
   "source": [
    "df_orig = df"
   ]
  },
  {
   "cell_type": "code",
   "execution_count": 81,
   "metadata": {
    "executionInfo": {
     "elapsed": 220,
     "status": "ok",
     "timestamp": 1638100025099,
     "user": {
      "displayName": "Selim Mouaffak",
      "photoUrl": "https://lh3.googleusercontent.com/a-/AOh14Gh7hSiofTadGlhaAhY7NhLkOUuHCsHhw3XP7YBc3w=s64",
      "userId": "09406084547179617328"
     },
     "user_tz": -60
    },
    "id": "mudHjY9V_Mx_"
   },
   "outputs": [],
   "source": [
    "df = df_orig"
   ]
  },
  {
   "cell_type": "code",
   "execution_count": 82,
   "metadata": {
    "id": "e0c_dpGnXswc"
   },
   "outputs": [
    {
     "data": {
      "text/html": [
       "<div>\n",
       "<style scoped>\n",
       "    .dataframe tbody tr th:only-of-type {\n",
       "        vertical-align: middle;\n",
       "    }\n",
       "\n",
       "    .dataframe tbody tr th {\n",
       "        vertical-align: top;\n",
       "    }\n",
       "\n",
       "    .dataframe thead th {\n",
       "        text-align: right;\n",
       "    }\n",
       "</style>\n",
       "<table border=\"1\" class=\"dataframe\">\n",
       "  <thead>\n",
       "    <tr style=\"text-align: right;\">\n",
       "      <th></th>\n",
       "      <th>text</th>\n",
       "      <th>source</th>\n",
       "      <th>title</th>\n",
       "      <th>date</th>\n",
       "      <th>company</th>\n",
       "      <th>sector</th>\n",
       "    </tr>\n",
       "  </thead>\n",
       "  <tbody>\n",
       "    <tr>\n",
       "      <th>0</th>\n",
       "      <td>detroit ap u government road safety agency opened two investigation problem volkswagen vehicle including one alleges serious gasoline leak hood detail probe cover nearly vehicle posted friday national highway traffic safety administration website largest investigation cover vw atlas suv model year agency say three complaint field report alleging leak near fuel injector liter engine complaint say fuel spewed engine compartment creating risk fire agency document say fire linked issue far fuel leak increase risk gasoline hit high temperature component probe could lead recall far one volkswagen say owner smell gasoline contact dealer immediately probe cover audi r vehicle audi volkswagen luxury brand agency say complaint three field report liter twin turbocharged engine stalling without warning highway city traffic several complaint blame problem turbocharger failure due lack oil flow probe nhtsa say determine size severity problem ass potential safety issue</td>\n",
       "      <td>Associated Press Financial Wire</td>\n",
       "      <td>US agency opens 2 safety probes of Volkswagen  Audi vehicles</td>\n",
       "      <td>['2021-04-02']</td>\n",
       "      <td>Audi</td>\n",
       "      <td>Automobile</td>\n",
       "    </tr>\n",
       "    <tr>\n",
       "      <th>1</th>\n",
       "      <td>frankfurt germany ap former head volkswagen audi luxury car division three others went trial wednesday charge related company cheating diesel car emission test proceeding represent first criminal trial germany scandal erupted five year ago cost volkswagen group billion euro billion fine settlement rupert stadler three co defendant charged fraud false certification criminal false advertising court munich trial scheduled include session lasting dec dpa news agency reported stadler made statement arriving courtroom trial take place anti coronavirus measure including attendance limit social distancing trial consequence volkswagen emission scandal erupted september u environmental protection agency issued notice violation saying volkswagen rigged thousand car detect car emission test stand software turned emission control car could pas test turned car driven street result pollution excess u limit nitrous oxide harm people health former development executive wolfgang hatz two engineer charged developing liter diesel engine audi volkswagen porsche used illegal software stadler charged involvement developing engine rather permitting vehicle sold despite knowing deception latest september case involves audi vehicle volkswagen vehicle porsche vehicle mostly sold u european market opening session taken prosecution reading page indictment defendant face minimum six month maximum year prison convicted volkswagen former ceo martin winterkorn also face two separate criminal proceeding germany connection scandal trial date set also charged u authority extradited two volkswagen executive went prison u</td>\n",
       "      <td>Associated Press Financial Wire</td>\n",
       "      <td>Former Audi chief on trial in VW diesel emissions scandal</td>\n",
       "      <td>['2020-09-30']</td>\n",
       "      <td>Audi</td>\n",
       "      <td>Automobile</td>\n",
       "    </tr>\n",
       "    <tr>\n",
       "      <th>2</th>\n",
       "      <td>zagreb croatia ap former audi engineering manager sought united state diesel emission cheating scandal arrested croatia country interior ministry said wednesday axel eiser arrested international warrant issued u crossed croatia slovenia june ministry said written statement held detention center northern adriatic sea town pula step taken inform german embassy since eiser german citizen statement added detail immediately known germany constitution forbids extradition citizen another european union member nation international court federal grand jury detroit michigan charged eiser three others last year count indictment alleging conspiracy wire fraud violation clean air act indictment alleged men took part nearly decade long conspiracy deceive u environmental protection agency cheating emission test liter diesel engine audi luxury brand owned german automaker volkswagen volkswagen pleaded guilty criminal charge scandal faced billion penalty lawsuit settlement cost eiser head audi diesel engine development department ingolstadt germany around may</td>\n",
       "      <td>Associated Press Financial Wire</td>\n",
       "      <td>Ex Audi manager sought by US in diesel case held in Croatia</td>\n",
       "      <td>['2020-06-17']</td>\n",
       "      <td>Audi</td>\n",
       "      <td>Automobile</td>\n",
       "    </tr>\n",
       "    <tr>\n",
       "      <th>3</th>\n",
       "      <td>berlin ap former head volkswagen luxury division audi set go trial end september fraud charge related company diesel emission scandal state court munich said monday trial rupert stadler three others open sept news agency dpa reported prosecutor last year charged stadler suspect fraud false certification criminal advertising adding another chapter volkswagen diesel scandal also led charge u germany volkswagen former ceo martin winterkorn suspect accused developed engine used audi volkswagen porsche model software made emission control work better test stand road prosecutor alleged stadler knew manipulation audi volkswagen car nevertheless kept selling model stadler audi bos denied knowing participating diesel manipulation volkswagen caught u authority september paid billion dollar fine civil settlement</td>\n",
       "      <td>Associated Press Financial Wire</td>\n",
       "      <td>Former Audi boss faces trial in September in diesel scandal</td>\n",
       "      <td>['2020-06-09']</td>\n",
       "      <td>Audi</td>\n",
       "      <td>Automobile</td>\n",
       "    </tr>\n",
       "    <tr>\n",
       "      <th>4</th>\n",
       "      <td>detroit ap volkswagen recalling nearly older vehicle sold audi luxury brand takata driver air bag inflator may function properly could hurl shrapnel crash vehicle may one million air bag inflator takata recalled december new distinct problem previous takata recall still explode much force blow apart metal canister new problem led least one death many car audi recall two decade old include certain tt roadster tt coupe unlike previous takata recall batch inflator contain volatile ammonium nitrate still malfunction due manufacturing error national highway traffic safety administration said document posted website thursday vw notify owner march replacement part available present owner get second letter part manufactured audi working intensively remedy supplier currently unclear remedy available automaker said government document driver australia killed one air bag malfunctioned another australian driver cyprus injured according government document addition audi vehicle made bmw honda toyota mitsubishi also recalled government document audi said aware inflator explosion problem field worldwide vehicle inflator without ammonium nitrate testing show air bag could underinflate deploy crash takata inflator blamed least death injury worldwide million inflator recalled u largest string automotive recall nation history problem forced takata japan bankruptcy</td>\n",
       "      <td>Associated Press Financial Wire</td>\n",
       "      <td>Audi recalls 107K US vehicles for new Takata air bag problem</td>\n",
       "      <td>['2020-02-26']</td>\n",
       "      <td>Audi</td>\n",
       "      <td>Automobile</td>\n",
       "    </tr>\n",
       "  </tbody>\n",
       "</table>\n",
       "</div>"
      ],
      "text/plain": [
       "                                                                                                                                                                                                                                                                                                                                                                                                                                                                                                                                                                                                                                                                                                                                                                                                                                                                                                                                                                                                                                                                                                                                                                                                                                                                                                                                                                                                                                                                                                                                                                                                                                                                          text  \\\n",
       "0                                                                                                                                                                                                                                                                                                                                                                                                                                                                                                                                                                                                                                                                     detroit ap u government road safety agency opened two investigation problem volkswagen vehicle including one alleges serious gasoline leak hood detail probe cover nearly vehicle posted friday national highway traffic safety administration website largest investigation cover vw atlas suv model year agency say three complaint field report alleging leak near fuel injector liter engine complaint say fuel spewed engine compartment creating risk fire agency document say fire linked issue far fuel leak increase risk gasoline hit high temperature component probe could lead recall far one volkswagen say owner smell gasoline contact dealer immediately probe cover audi r vehicle audi volkswagen luxury brand agency say complaint three field report liter twin turbocharged engine stalling without warning highway city traffic several complaint blame problem turbocharger failure due lack oil flow probe nhtsa say determine size severity problem ass potential safety issue   \n",
       "1  frankfurt germany ap former head volkswagen audi luxury car division three others went trial wednesday charge related company cheating diesel car emission test proceeding represent first criminal trial germany scandal erupted five year ago cost volkswagen group billion euro billion fine settlement rupert stadler three co defendant charged fraud false certification criminal false advertising court munich trial scheduled include session lasting dec dpa news agency reported stadler made statement arriving courtroom trial take place anti coronavirus measure including attendance limit social distancing trial consequence volkswagen emission scandal erupted september u environmental protection agency issued notice violation saying volkswagen rigged thousand car detect car emission test stand software turned emission control car could pas test turned car driven street result pollution excess u limit nitrous oxide harm people health former development executive wolfgang hatz two engineer charged developing liter diesel engine audi volkswagen porsche used illegal software stadler charged involvement developing engine rather permitting vehicle sold despite knowing deception latest september case involves audi vehicle volkswagen vehicle porsche vehicle mostly sold u european market opening session taken prosecution reading page indictment defendant face minimum six month maximum year prison convicted volkswagen former ceo martin winterkorn also face two separate criminal proceeding germany connection scandal trial date set also charged u authority extradited two volkswagen executive went prison u   \n",
       "2                                                                                                                                                                                                                                                                                                                                                                                                                                                                                                                                                                           zagreb croatia ap former audi engineering manager sought united state diesel emission cheating scandal arrested croatia country interior ministry said wednesday axel eiser arrested international warrant issued u crossed croatia slovenia june ministry said written statement held detention center northern adriatic sea town pula step taken inform german embassy since eiser german citizen statement added detail immediately known germany constitution forbids extradition citizen another european union member nation international court federal grand jury detroit michigan charged eiser three others last year count indictment alleging conspiracy wire fraud violation clean air act indictment alleged men took part nearly decade long conspiracy deceive u environmental protection agency cheating emission test liter diesel engine audi luxury brand owned german automaker volkswagen volkswagen pleaded guilty criminal charge scandal faced billion penalty lawsuit settlement cost eiser head audi diesel engine development department ingolstadt germany around may   \n",
       "3                                                                                                                                                                                                                                                                                                                                                                                                                                                                                                                                                                                                                                                                                                                                                                                                                                 berlin ap former head volkswagen luxury division audi set go trial end september fraud charge related company diesel emission scandal state court munich said monday trial rupert stadler three others open sept news agency dpa reported prosecutor last year charged stadler suspect fraud false certification criminal advertising adding another chapter volkswagen diesel scandal also led charge u germany volkswagen former ceo martin winterkorn suspect accused developed engine used audi volkswagen porsche model software made emission control work better test stand road prosecutor alleged stadler knew manipulation audi volkswagen car nevertheless kept selling model stadler audi bos denied knowing participating diesel manipulation volkswagen caught u authority september paid billion dollar fine civil settlement   \n",
       "4                                                                                                                                                                                                                                                      detroit ap volkswagen recalling nearly older vehicle sold audi luxury brand takata driver air bag inflator may function properly could hurl shrapnel crash vehicle may one million air bag inflator takata recalled december new distinct problem previous takata recall still explode much force blow apart metal canister new problem led least one death many car audi recall two decade old include certain tt roadster tt coupe unlike previous takata recall batch inflator contain volatile ammonium nitrate still malfunction due manufacturing error national highway traffic safety administration said document posted website thursday vw notify owner march replacement part available present owner get second letter part manufactured audi working intensively remedy supplier currently unclear remedy available automaker said government document driver australia killed one air bag malfunctioned another australian driver cyprus injured according government document addition audi vehicle made bmw honda toyota mitsubishi also recalled government document audi said aware inflator explosion problem field worldwide vehicle inflator without ammonium nitrate testing show air bag could underinflate deploy crash takata inflator blamed least death injury worldwide million inflator recalled u largest string automotive recall nation history problem forced takata japan bankruptcy   \n",
       "\n",
       "                                source  \\\n",
       "0    Associated Press Financial Wire     \n",
       "1    Associated Press Financial Wire     \n",
       "2    Associated Press Financial Wire     \n",
       "3    Associated Press Financial Wire     \n",
       "4    Associated Press Financial Wire     \n",
       "\n",
       "                                                              title  \\\n",
       "0    US agency opens 2 safety probes of Volkswagen  Audi vehicles     \n",
       "1       Former Audi chief on trial in VW diesel emissions scandal     \n",
       "2     Ex Audi manager sought by US in diesel case held in Croatia     \n",
       "3     Former Audi boss faces trial in September in diesel scandal     \n",
       "4    Audi recalls 107K US vehicles for new Takata air bag problem     \n",
       "\n",
       "             date company      sector  \n",
       "0  ['2021-04-02']    Audi  Automobile  \n",
       "1  ['2020-09-30']    Audi  Automobile  \n",
       "2  ['2020-06-17']    Audi  Automobile  \n",
       "3  ['2020-06-09']    Audi  Automobile  \n",
       "4  ['2020-02-26']    Audi  Automobile  "
      ]
     },
     "execution_count": 82,
     "metadata": {},
     "output_type": "execute_result"
    }
   ],
   "source": [
    "df.head()"
   ]
  },
  {
   "cell_type": "markdown",
   "metadata": {
    "id": "Rp_tpNbGFBIt"
   },
   "source": [
    "# Sentiment analysis"
   ]
  },
  {
   "cell_type": "code",
   "execution_count": 83,
   "metadata": {
    "id": "GJoi1AG2FCjx"
   },
   "outputs": [
    {
     "name": "stdout",
     "output_type": "stream",
     "text": [
      "2021-11-28 13:58:25,327 loading file C:\\Users\\amine\\.flair\\models\\sentiment-en-mix-distillbert_4.pt\n"
     ]
    }
   ],
   "source": [
    "sentiment_model = flair.models.TextClassifier.load('en-sentiment')"
   ]
  },
  {
   "cell_type": "code",
   "execution_count": 84,
   "metadata": {
    "colab": {
     "base_uri": "https://localhost:8080/"
    },
    "executionInfo": {
     "elapsed": 7,
     "status": "ok",
     "timestamp": 1637950105858,
     "user": {
      "displayName": "Selim Mouaffak",
      "photoUrl": "https://lh3.googleusercontent.com/a-/AOh14Gh7hSiofTadGlhaAhY7NhLkOUuHCsHhw3XP7YBc3w=s64",
      "userId": "09406084547179617328"
     },
     "user_tz": -60
    },
    "id": "n7nZU7J8FDjE",
    "outputId": "48be7031-e2ad-49c3-826a-d9048ad621a2"
   },
   "outputs": [
    {
     "data": {
      "text/plain": [
       "0.9993396401405334"
      ]
     },
     "execution_count": 84,
     "metadata": {},
     "output_type": "execute_result"
    }
   ],
   "source": [
    "sample = 'you are not very pretty'\n",
    "sample = flair.data.Sentence(sample)\n",
    "sentiment_model.predict(sample)\n",
    "sample.labels[0].score"
   ]
  },
  {
   "cell_type": "code",
   "execution_count": 85,
   "metadata": {
    "executionInfo": {
     "elapsed": 212,
     "status": "ok",
     "timestamp": 1638100047747,
     "user": {
      "displayName": "Selim Mouaffak",
      "photoUrl": "https://lh3.googleusercontent.com/a-/AOh14Gh7hSiofTadGlhaAhY7NhLkOUuHCsHhw3XP7YBc3w=s64",
      "userId": "09406084547179617328"
     },
     "user_tz": -60
    },
    "id": "Lx2y-tnkFVEh"
   },
   "outputs": [],
   "source": [
    "sentiment = []\n",
    "confidence = []\n",
    "\n",
    "def sent_analysis(text):\n",
    "  sample = flair.data.Sentence(str(text))\n",
    "  sentiment_model.predict(sample)\n",
    "  sentiment.append(sample.labels[0].value)\n",
    "  confidence.append(sample.labels[0].score)\n",
    "  return text"
   ]
  },
  {
   "cell_type": "code",
   "execution_count": 86,
   "metadata": {
    "executionInfo": {
     "elapsed": 216,
     "status": "ok",
     "timestamp": 1638100058552,
     "user": {
      "displayName": "Selim Mouaffak",
      "photoUrl": "https://lh3.googleusercontent.com/a-/AOh14Gh7hSiofTadGlhaAhY7NhLkOUuHCsHhw3XP7YBc3w=s64",
      "userId": "09406084547179617328"
     },
     "user_tz": -60
    },
    "id": "a3Pu5NtCXhKj"
   },
   "outputs": [],
   "source": [
    "df1 = df"
   ]
  },
  {
   "cell_type": "code",
   "execution_count": 87,
   "metadata": {
    "colab": {
     "base_uri": "https://localhost:8080/"
    },
    "executionInfo": {
     "elapsed": 3812,
     "status": "ok",
     "timestamp": 1638100063767,
     "user": {
      "displayName": "Selim Mouaffak",
      "photoUrl": "https://lh3.googleusercontent.com/a-/AOh14Gh7hSiofTadGlhaAhY7NhLkOUuHCsHhw3XP7YBc3w=s64",
      "userId": "09406084547179617328"
     },
     "user_tz": -60
    },
    "id": "JtpyHsEVXmkz",
    "outputId": "145a1618-342b-4f69-b6ec-ef04b1cfd6e3"
   },
   "outputs": [
    {
     "name": "stdout",
     "output_type": "stream",
     "text": [
      "12156.15576672554\n"
     ]
    }
   ],
   "source": [
    "start = time.time()\n",
    "df1['text'] = df1['text'].apply(sent_analysis)\n",
    "print(time.time()-start)"
   ]
  },
  {
   "cell_type": "code",
   "execution_count": 88,
   "metadata": {
    "colab": {
     "base_uri": "https://localhost:8080/"
    },
    "executionInfo": {
     "elapsed": 248,
     "status": "ok",
     "timestamp": 1638100065380,
     "user": {
      "displayName": "Selim Mouaffak",
      "photoUrl": "https://lh3.googleusercontent.com/a-/AOh14Gh7hSiofTadGlhaAhY7NhLkOUuHCsHhw3XP7YBc3w=s64",
      "userId": "09406084547179617328"
     },
     "user_tz": -60
    },
    "id": "w3OwQgf6XzhL",
    "outputId": "6385f930-ddcc-470a-b6cf-b15c7f02dbd3"
   },
   "outputs": [],
   "source": [
    "df1['sentiment'] = sentiment\n",
    "df1['confidence'] = confidence "
   ]
  },
  {
   "cell_type": "code",
   "execution_count": 89,
   "metadata": {
    "colab": {
     "base_uri": "https://localhost:8080/",
     "height": 1000
    },
    "executionInfo": {
     "elapsed": 226,
     "status": "ok",
     "timestamp": 1638100071507,
     "user": {
      "displayName": "Selim Mouaffak",
      "photoUrl": "https://lh3.googleusercontent.com/a-/AOh14Gh7hSiofTadGlhaAhY7NhLkOUuHCsHhw3XP7YBc3w=s64",
      "userId": "09406084547179617328"
     },
     "user_tz": -60
    },
    "id": "zOvUkdgGX2ab",
    "outputId": "4d89a277-edf9-42dc-83d9-3d2404f5ef60"
   },
   "outputs": [
    {
     "data": {
      "text/html": [
       "<div>\n",
       "<style scoped>\n",
       "    .dataframe tbody tr th:only-of-type {\n",
       "        vertical-align: middle;\n",
       "    }\n",
       "\n",
       "    .dataframe tbody tr th {\n",
       "        vertical-align: top;\n",
       "    }\n",
       "\n",
       "    .dataframe thead th {\n",
       "        text-align: right;\n",
       "    }\n",
       "</style>\n",
       "<table border=\"1\" class=\"dataframe\">\n",
       "  <thead>\n",
       "    <tr style=\"text-align: right;\">\n",
       "      <th></th>\n",
       "      <th>text</th>\n",
       "      <th>source</th>\n",
       "      <th>title</th>\n",
       "      <th>date</th>\n",
       "      <th>company</th>\n",
       "      <th>sector</th>\n",
       "      <th>sentiment</th>\n",
       "      <th>confidence</th>\n",
       "    </tr>\n",
       "  </thead>\n",
       "  <tbody>\n",
       "    <tr>\n",
       "      <th>0</th>\n",
       "      <td>detroit ap u government road safety agency opened two investigation problem volkswagen vehicle including one alleges serious gasoline leak hood detail probe cover nearly vehicle posted friday national highway traffic safety administration website largest investigation cover vw atlas suv model year agency say three complaint field report alleging leak near fuel injector liter engine complaint say fuel spewed engine compartment creating risk fire agency document say fire linked issue far fuel leak increase risk gasoline hit high temperature component probe could lead recall far one volkswagen say owner smell gasoline contact dealer immediately probe cover audi r vehicle audi volkswagen luxury brand agency say complaint three field report liter twin turbocharged engine stalling without warning highway city traffic several complaint blame problem turbocharger failure due lack oil flow probe nhtsa say determine size severity problem ass potential safety issue</td>\n",
       "      <td>Associated Press Financial Wire</td>\n",
       "      <td>US agency opens 2 safety probes of Volkswagen  Audi vehicles</td>\n",
       "      <td>['2021-04-02']</td>\n",
       "      <td>Audi</td>\n",
       "      <td>Automobile</td>\n",
       "      <td>NEGATIVE</td>\n",
       "      <td>0.906216</td>\n",
       "    </tr>\n",
       "    <tr>\n",
       "      <th>1</th>\n",
       "      <td>frankfurt germany ap former head volkswagen audi luxury car division three others went trial wednesday charge related company cheating diesel car emission test proceeding represent first criminal trial germany scandal erupted five year ago cost volkswagen group billion euro billion fine settlement rupert stadler three co defendant charged fraud false certification criminal false advertising court munich trial scheduled include session lasting dec dpa news agency reported stadler made statement arriving courtroom trial take place anti coronavirus measure including attendance limit social distancing trial consequence volkswagen emission scandal erupted september u environmental protection agency issued notice violation saying volkswagen rigged thousand car detect car emission test stand software turned emission control car could pas test turned car driven street result pollution excess u limit nitrous oxide harm people health former development executive wolfgang hatz two engineer charged developing liter diesel engine audi volkswagen porsche used illegal software stadler charged involvement developing engine rather permitting vehicle sold despite knowing deception latest september case involves audi vehicle volkswagen vehicle porsche vehicle mostly sold u european market opening session taken prosecution reading page indictment defendant face minimum six month maximum year prison convicted volkswagen former ceo martin winterkorn also face two separate criminal proceeding germany connection scandal trial date set also charged u authority extradited two volkswagen executive went prison u</td>\n",
       "      <td>Associated Press Financial Wire</td>\n",
       "      <td>Former Audi chief on trial in VW diesel emissions scandal</td>\n",
       "      <td>['2020-09-30']</td>\n",
       "      <td>Audi</td>\n",
       "      <td>Automobile</td>\n",
       "      <td>NEGATIVE</td>\n",
       "      <td>0.996427</td>\n",
       "    </tr>\n",
       "    <tr>\n",
       "      <th>2</th>\n",
       "      <td>zagreb croatia ap former audi engineering manager sought united state diesel emission cheating scandal arrested croatia country interior ministry said wednesday axel eiser arrested international warrant issued u crossed croatia slovenia june ministry said written statement held detention center northern adriatic sea town pula step taken inform german embassy since eiser german citizen statement added detail immediately known germany constitution forbids extradition citizen another european union member nation international court federal grand jury detroit michigan charged eiser three others last year count indictment alleging conspiracy wire fraud violation clean air act indictment alleged men took part nearly decade long conspiracy deceive u environmental protection agency cheating emission test liter diesel engine audi luxury brand owned german automaker volkswagen volkswagen pleaded guilty criminal charge scandal faced billion penalty lawsuit settlement cost eiser head audi diesel engine development department ingolstadt germany around may</td>\n",
       "      <td>Associated Press Financial Wire</td>\n",
       "      <td>Ex Audi manager sought by US in diesel case held in Croatia</td>\n",
       "      <td>['2020-06-17']</td>\n",
       "      <td>Audi</td>\n",
       "      <td>Automobile</td>\n",
       "      <td>NEGATIVE</td>\n",
       "      <td>0.989736</td>\n",
       "    </tr>\n",
       "    <tr>\n",
       "      <th>3</th>\n",
       "      <td>berlin ap former head volkswagen luxury division audi set go trial end september fraud charge related company diesel emission scandal state court munich said monday trial rupert stadler three others open sept news agency dpa reported prosecutor last year charged stadler suspect fraud false certification criminal advertising adding another chapter volkswagen diesel scandal also led charge u germany volkswagen former ceo martin winterkorn suspect accused developed engine used audi volkswagen porsche model software made emission control work better test stand road prosecutor alleged stadler knew manipulation audi volkswagen car nevertheless kept selling model stadler audi bos denied knowing participating diesel manipulation volkswagen caught u authority september paid billion dollar fine civil settlement</td>\n",
       "      <td>Associated Press Financial Wire</td>\n",
       "      <td>Former Audi boss faces trial in September in diesel scandal</td>\n",
       "      <td>['2020-06-09']</td>\n",
       "      <td>Audi</td>\n",
       "      <td>Automobile</td>\n",
       "      <td>NEGATIVE</td>\n",
       "      <td>0.998740</td>\n",
       "    </tr>\n",
       "    <tr>\n",
       "      <th>4</th>\n",
       "      <td>detroit ap volkswagen recalling nearly older vehicle sold audi luxury brand takata driver air bag inflator may function properly could hurl shrapnel crash vehicle may one million air bag inflator takata recalled december new distinct problem previous takata recall still explode much force blow apart metal canister new problem led least one death many car audi recall two decade old include certain tt roadster tt coupe unlike previous takata recall batch inflator contain volatile ammonium nitrate still malfunction due manufacturing error national highway traffic safety administration said document posted website thursday vw notify owner march replacement part available present owner get second letter part manufactured audi working intensively remedy supplier currently unclear remedy available automaker said government document driver australia killed one air bag malfunctioned another australian driver cyprus injured according government document addition audi vehicle made bmw honda toyota mitsubishi also recalled government document audi said aware inflator explosion problem field worldwide vehicle inflator without ammonium nitrate testing show air bag could underinflate deploy crash takata inflator blamed least death injury worldwide million inflator recalled u largest string automotive recall nation history problem forced takata japan bankruptcy</td>\n",
       "      <td>Associated Press Financial Wire</td>\n",
       "      <td>Audi recalls 107K US vehicles for new Takata air bag problem</td>\n",
       "      <td>['2020-02-26']</td>\n",
       "      <td>Audi</td>\n",
       "      <td>Automobile</td>\n",
       "      <td>NEGATIVE</td>\n",
       "      <td>0.999722</td>\n",
       "    </tr>\n",
       "  </tbody>\n",
       "</table>\n",
       "</div>"
      ],
      "text/plain": [
       "                                                                                                                                                                                                                                                                                                                                                                                                                                                                                                                                                                                                                                                                                                                                                                                                                                                                                                                                                                                                                                                                                                                                                                                                                                                                                                                                                                                                                                                                                                                                                                                                                                                                          text  \\\n",
       "0                                                                                                                                                                                                                                                                                                                                                                                                                                                                                                                                                                                                                                                                     detroit ap u government road safety agency opened two investigation problem volkswagen vehicle including one alleges serious gasoline leak hood detail probe cover nearly vehicle posted friday national highway traffic safety administration website largest investigation cover vw atlas suv model year agency say three complaint field report alleging leak near fuel injector liter engine complaint say fuel spewed engine compartment creating risk fire agency document say fire linked issue far fuel leak increase risk gasoline hit high temperature component probe could lead recall far one volkswagen say owner smell gasoline contact dealer immediately probe cover audi r vehicle audi volkswagen luxury brand agency say complaint three field report liter twin turbocharged engine stalling without warning highway city traffic several complaint blame problem turbocharger failure due lack oil flow probe nhtsa say determine size severity problem ass potential safety issue   \n",
       "1  frankfurt germany ap former head volkswagen audi luxury car division three others went trial wednesday charge related company cheating diesel car emission test proceeding represent first criminal trial germany scandal erupted five year ago cost volkswagen group billion euro billion fine settlement rupert stadler three co defendant charged fraud false certification criminal false advertising court munich trial scheduled include session lasting dec dpa news agency reported stadler made statement arriving courtroom trial take place anti coronavirus measure including attendance limit social distancing trial consequence volkswagen emission scandal erupted september u environmental protection agency issued notice violation saying volkswagen rigged thousand car detect car emission test stand software turned emission control car could pas test turned car driven street result pollution excess u limit nitrous oxide harm people health former development executive wolfgang hatz two engineer charged developing liter diesel engine audi volkswagen porsche used illegal software stadler charged involvement developing engine rather permitting vehicle sold despite knowing deception latest september case involves audi vehicle volkswagen vehicle porsche vehicle mostly sold u european market opening session taken prosecution reading page indictment defendant face minimum six month maximum year prison convicted volkswagen former ceo martin winterkorn also face two separate criminal proceeding germany connection scandal trial date set also charged u authority extradited two volkswagen executive went prison u   \n",
       "2                                                                                                                                                                                                                                                                                                                                                                                                                                                                                                                                                                           zagreb croatia ap former audi engineering manager sought united state diesel emission cheating scandal arrested croatia country interior ministry said wednesday axel eiser arrested international warrant issued u crossed croatia slovenia june ministry said written statement held detention center northern adriatic sea town pula step taken inform german embassy since eiser german citizen statement added detail immediately known germany constitution forbids extradition citizen another european union member nation international court federal grand jury detroit michigan charged eiser three others last year count indictment alleging conspiracy wire fraud violation clean air act indictment alleged men took part nearly decade long conspiracy deceive u environmental protection agency cheating emission test liter diesel engine audi luxury brand owned german automaker volkswagen volkswagen pleaded guilty criminal charge scandal faced billion penalty lawsuit settlement cost eiser head audi diesel engine development department ingolstadt germany around may   \n",
       "3                                                                                                                                                                                                                                                                                                                                                                                                                                                                                                                                                                                                                                                                                                                                                                                                                                 berlin ap former head volkswagen luxury division audi set go trial end september fraud charge related company diesel emission scandal state court munich said monday trial rupert stadler three others open sept news agency dpa reported prosecutor last year charged stadler suspect fraud false certification criminal advertising adding another chapter volkswagen diesel scandal also led charge u germany volkswagen former ceo martin winterkorn suspect accused developed engine used audi volkswagen porsche model software made emission control work better test stand road prosecutor alleged stadler knew manipulation audi volkswagen car nevertheless kept selling model stadler audi bos denied knowing participating diesel manipulation volkswagen caught u authority september paid billion dollar fine civil settlement   \n",
       "4                                                                                                                                                                                                                                                      detroit ap volkswagen recalling nearly older vehicle sold audi luxury brand takata driver air bag inflator may function properly could hurl shrapnel crash vehicle may one million air bag inflator takata recalled december new distinct problem previous takata recall still explode much force blow apart metal canister new problem led least one death many car audi recall two decade old include certain tt roadster tt coupe unlike previous takata recall batch inflator contain volatile ammonium nitrate still malfunction due manufacturing error national highway traffic safety administration said document posted website thursday vw notify owner march replacement part available present owner get second letter part manufactured audi working intensively remedy supplier currently unclear remedy available automaker said government document driver australia killed one air bag malfunctioned another australian driver cyprus injured according government document addition audi vehicle made bmw honda toyota mitsubishi also recalled government document audi said aware inflator explosion problem field worldwide vehicle inflator without ammonium nitrate testing show air bag could underinflate deploy crash takata inflator blamed least death injury worldwide million inflator recalled u largest string automotive recall nation history problem forced takata japan bankruptcy   \n",
       "\n",
       "                                source  \\\n",
       "0    Associated Press Financial Wire     \n",
       "1    Associated Press Financial Wire     \n",
       "2    Associated Press Financial Wire     \n",
       "3    Associated Press Financial Wire     \n",
       "4    Associated Press Financial Wire     \n",
       "\n",
       "                                                              title  \\\n",
       "0    US agency opens 2 safety probes of Volkswagen  Audi vehicles     \n",
       "1       Former Audi chief on trial in VW diesel emissions scandal     \n",
       "2     Ex Audi manager sought by US in diesel case held in Croatia     \n",
       "3     Former Audi boss faces trial in September in diesel scandal     \n",
       "4    Audi recalls 107K US vehicles for new Takata air bag problem     \n",
       "\n",
       "             date company      sector sentiment  confidence  \n",
       "0  ['2021-04-02']    Audi  Automobile  NEGATIVE    0.906216  \n",
       "1  ['2020-09-30']    Audi  Automobile  NEGATIVE    0.996427  \n",
       "2  ['2020-06-17']    Audi  Automobile  NEGATIVE    0.989736  \n",
       "3  ['2020-06-09']    Audi  Automobile  NEGATIVE    0.998740  \n",
       "4  ['2020-02-26']    Audi  Automobile  NEGATIVE    0.999722  "
      ]
     },
     "execution_count": 89,
     "metadata": {},
     "output_type": "execute_result"
    }
   ],
   "source": [
    "df1.head()"
   ]
  },
  {
   "cell_type": "markdown",
   "metadata": {
    "id": "b0ZpLSw6WMhd"
   },
   "source": [
    "# Saving output to xlsx"
   ]
  },
  {
   "cell_type": "code",
   "execution_count": 90,
   "metadata": {
    "executionInfo": {
     "elapsed": 219,
     "status": "ok",
     "timestamp": 1638100251482,
     "user": {
      "displayName": "Selim Mouaffak",
      "photoUrl": "https://lh3.googleusercontent.com/a-/AOh14Gh7hSiofTadGlhaAhY7NhLkOUuHCsHhw3XP7YBc3w=s64",
      "userId": "09406084547179617328"
     },
     "user_tz": -60
    },
    "id": "yWbpHEq_WOL_"
   },
   "outputs": [],
   "source": [
    "df1.to_excel(r'Dataset_Needed\\flair.xlsx', index=False)"
   ]
  },
  {
   "cell_type": "code",
   "execution_count": 91,
   "metadata": {
    "executionInfo": {
     "elapsed": 223,
     "status": "ok",
     "timestamp": 1638100255743,
     "user": {
      "displayName": "Selim Mouaffak",
      "photoUrl": "https://lh3.googleusercontent.com/a-/AOh14Gh7hSiofTadGlhaAhY7NhLkOUuHCsHhw3XP7YBc3w=s64",
      "userId": "09406084547179617328"
     },
     "user_tz": -60
    },
    "id": "YekYNcVvYGpA"
   },
   "outputs": [],
   "source": [
    "dflol = pd.read_excel(r'Dataset_Needed\\flair.xlsx')"
   ]
  },
  {
   "cell_type": "code",
   "execution_count": 92,
   "metadata": {
    "colab": {
     "base_uri": "https://localhost:8080/",
     "height": 1000
    },
    "executionInfo": {
     "elapsed": 415,
     "status": "ok",
     "timestamp": 1638100257105,
     "user": {
      "displayName": "Selim Mouaffak",
      "photoUrl": "https://lh3.googleusercontent.com/a-/AOh14Gh7hSiofTadGlhaAhY7NhLkOUuHCsHhw3XP7YBc3w=s64",
      "userId": "09406084547179617328"
     },
     "user_tz": -60
    },
    "id": "9vFB7NvlYb4Y",
    "outputId": "94a5819a-35d2-4024-e0d1-3ec51fcefb0d"
   },
   "outputs": [
    {
     "data": {
      "text/html": [
       "<div>\n",
       "<style scoped>\n",
       "    .dataframe tbody tr th:only-of-type {\n",
       "        vertical-align: middle;\n",
       "    }\n",
       "\n",
       "    .dataframe tbody tr th {\n",
       "        vertical-align: top;\n",
       "    }\n",
       "\n",
       "    .dataframe thead th {\n",
       "        text-align: right;\n",
       "    }\n",
       "</style>\n",
       "<table border=\"1\" class=\"dataframe\">\n",
       "  <thead>\n",
       "    <tr style=\"text-align: right;\">\n",
       "      <th></th>\n",
       "      <th>text</th>\n",
       "      <th>source</th>\n",
       "      <th>title</th>\n",
       "      <th>date</th>\n",
       "      <th>company</th>\n",
       "      <th>sector</th>\n",
       "      <th>sentiment</th>\n",
       "      <th>confidence</th>\n",
       "    </tr>\n",
       "  </thead>\n",
       "  <tbody>\n",
       "    <tr>\n",
       "      <th>0</th>\n",
       "      <td>detroit ap u government road safety agency opened two investigation problem volkswagen vehicle including one alleges serious gasoline leak hood detail probe cover nearly vehicle posted friday national highway traffic safety administration website largest investigation cover vw atlas suv model year agency say three complaint field report alleging leak near fuel injector liter engine complaint say fuel spewed engine compartment creating risk fire agency document say fire linked issue far fuel leak increase risk gasoline hit high temperature component probe could lead recall far one volkswagen say owner smell gasoline contact dealer immediately probe cover audi r vehicle audi volkswagen luxury brand agency say complaint three field report liter twin turbocharged engine stalling without warning highway city traffic several complaint blame problem turbocharger failure due lack oil flow probe nhtsa say determine size severity problem ass potential safety issue</td>\n",
       "      <td>Associated Press Financial Wire</td>\n",
       "      <td>US agency opens 2 safety probes of Volkswagen  Audi vehicles</td>\n",
       "      <td>['2021-04-02']</td>\n",
       "      <td>Audi</td>\n",
       "      <td>Automobile</td>\n",
       "      <td>NEGATIVE</td>\n",
       "      <td>0.906216</td>\n",
       "    </tr>\n",
       "    <tr>\n",
       "      <th>1</th>\n",
       "      <td>frankfurt germany ap former head volkswagen audi luxury car division three others went trial wednesday charge related company cheating diesel car emission test proceeding represent first criminal trial germany scandal erupted five year ago cost volkswagen group billion euro billion fine settlement rupert stadler three co defendant charged fraud false certification criminal false advertising court munich trial scheduled include session lasting dec dpa news agency reported stadler made statement arriving courtroom trial take place anti coronavirus measure including attendance limit social distancing trial consequence volkswagen emission scandal erupted september u environmental protection agency issued notice violation saying volkswagen rigged thousand car detect car emission test stand software turned emission control car could pas test turned car driven street result pollution excess u limit nitrous oxide harm people health former development executive wolfgang hatz two engineer charged developing liter diesel engine audi volkswagen porsche used illegal software stadler charged involvement developing engine rather permitting vehicle sold despite knowing deception latest september case involves audi vehicle volkswagen vehicle porsche vehicle mostly sold u european market opening session taken prosecution reading page indictment defendant face minimum six month maximum year prison convicted volkswagen former ceo martin winterkorn also face two separate criminal proceeding germany connection scandal trial date set also charged u authority extradited two volkswagen executive went prison u</td>\n",
       "      <td>Associated Press Financial Wire</td>\n",
       "      <td>Former Audi chief on trial in VW diesel emissions scandal</td>\n",
       "      <td>['2020-09-30']</td>\n",
       "      <td>Audi</td>\n",
       "      <td>Automobile</td>\n",
       "      <td>NEGATIVE</td>\n",
       "      <td>0.996427</td>\n",
       "    </tr>\n",
       "    <tr>\n",
       "      <th>2</th>\n",
       "      <td>zagreb croatia ap former audi engineering manager sought united state diesel emission cheating scandal arrested croatia country interior ministry said wednesday axel eiser arrested international warrant issued u crossed croatia slovenia june ministry said written statement held detention center northern adriatic sea town pula step taken inform german embassy since eiser german citizen statement added detail immediately known germany constitution forbids extradition citizen another european union member nation international court federal grand jury detroit michigan charged eiser three others last year count indictment alleging conspiracy wire fraud violation clean air act indictment alleged men took part nearly decade long conspiracy deceive u environmental protection agency cheating emission test liter diesel engine audi luxury brand owned german automaker volkswagen volkswagen pleaded guilty criminal charge scandal faced billion penalty lawsuit settlement cost eiser head audi diesel engine development department ingolstadt germany around may</td>\n",
       "      <td>Associated Press Financial Wire</td>\n",
       "      <td>Ex Audi manager sought by US in diesel case held in Croatia</td>\n",
       "      <td>['2020-06-17']</td>\n",
       "      <td>Audi</td>\n",
       "      <td>Automobile</td>\n",
       "      <td>NEGATIVE</td>\n",
       "      <td>0.989736</td>\n",
       "    </tr>\n",
       "    <tr>\n",
       "      <th>3</th>\n",
       "      <td>berlin ap former head volkswagen luxury division audi set go trial end september fraud charge related company diesel emission scandal state court munich said monday trial rupert stadler three others open sept news agency dpa reported prosecutor last year charged stadler suspect fraud false certification criminal advertising adding another chapter volkswagen diesel scandal also led charge u germany volkswagen former ceo martin winterkorn suspect accused developed engine used audi volkswagen porsche model software made emission control work better test stand road prosecutor alleged stadler knew manipulation audi volkswagen car nevertheless kept selling model stadler audi bos denied knowing participating diesel manipulation volkswagen caught u authority september paid billion dollar fine civil settlement</td>\n",
       "      <td>Associated Press Financial Wire</td>\n",
       "      <td>Former Audi boss faces trial in September in diesel scandal</td>\n",
       "      <td>['2020-06-09']</td>\n",
       "      <td>Audi</td>\n",
       "      <td>Automobile</td>\n",
       "      <td>NEGATIVE</td>\n",
       "      <td>0.998740</td>\n",
       "    </tr>\n",
       "    <tr>\n",
       "      <th>4</th>\n",
       "      <td>detroit ap volkswagen recalling nearly older vehicle sold audi luxury brand takata driver air bag inflator may function properly could hurl shrapnel crash vehicle may one million air bag inflator takata recalled december new distinct problem previous takata recall still explode much force blow apart metal canister new problem led least one death many car audi recall two decade old include certain tt roadster tt coupe unlike previous takata recall batch inflator contain volatile ammonium nitrate still malfunction due manufacturing error national highway traffic safety administration said document posted website thursday vw notify owner march replacement part available present owner get second letter part manufactured audi working intensively remedy supplier currently unclear remedy available automaker said government document driver australia killed one air bag malfunctioned another australian driver cyprus injured according government document addition audi vehicle made bmw honda toyota mitsubishi also recalled government document audi said aware inflator explosion problem field worldwide vehicle inflator without ammonium nitrate testing show air bag could underinflate deploy crash takata inflator blamed least death injury worldwide million inflator recalled u largest string automotive recall nation history problem forced takata japan bankruptcy</td>\n",
       "      <td>Associated Press Financial Wire</td>\n",
       "      <td>Audi recalls 107K US vehicles for new Takata air bag problem</td>\n",
       "      <td>['2020-02-26']</td>\n",
       "      <td>Audi</td>\n",
       "      <td>Automobile</td>\n",
       "      <td>NEGATIVE</td>\n",
       "      <td>0.999722</td>\n",
       "    </tr>\n",
       "  </tbody>\n",
       "</table>\n",
       "</div>"
      ],
      "text/plain": [
       "                                                                                                                                                                                                                                                                                                                                                                                                                                                                                                                                                                                                                                                                                                                                                                                                                                                                                                                                                                                                                                                                                                                                                                                                                                                                                                                                                                                                                                                                                                                                                                                                                                                                          text  \\\n",
       "0                                                                                                                                                                                                                                                                                                                                                                                                                                                                                                                                                                                                                                                                     detroit ap u government road safety agency opened two investigation problem volkswagen vehicle including one alleges serious gasoline leak hood detail probe cover nearly vehicle posted friday national highway traffic safety administration website largest investigation cover vw atlas suv model year agency say three complaint field report alleging leak near fuel injector liter engine complaint say fuel spewed engine compartment creating risk fire agency document say fire linked issue far fuel leak increase risk gasoline hit high temperature component probe could lead recall far one volkswagen say owner smell gasoline contact dealer immediately probe cover audi r vehicle audi volkswagen luxury brand agency say complaint three field report liter twin turbocharged engine stalling without warning highway city traffic several complaint blame problem turbocharger failure due lack oil flow probe nhtsa say determine size severity problem ass potential safety issue   \n",
       "1  frankfurt germany ap former head volkswagen audi luxury car division three others went trial wednesday charge related company cheating diesel car emission test proceeding represent first criminal trial germany scandal erupted five year ago cost volkswagen group billion euro billion fine settlement rupert stadler three co defendant charged fraud false certification criminal false advertising court munich trial scheduled include session lasting dec dpa news agency reported stadler made statement arriving courtroom trial take place anti coronavirus measure including attendance limit social distancing trial consequence volkswagen emission scandal erupted september u environmental protection agency issued notice violation saying volkswagen rigged thousand car detect car emission test stand software turned emission control car could pas test turned car driven street result pollution excess u limit nitrous oxide harm people health former development executive wolfgang hatz two engineer charged developing liter diesel engine audi volkswagen porsche used illegal software stadler charged involvement developing engine rather permitting vehicle sold despite knowing deception latest september case involves audi vehicle volkswagen vehicle porsche vehicle mostly sold u european market opening session taken prosecution reading page indictment defendant face minimum six month maximum year prison convicted volkswagen former ceo martin winterkorn also face two separate criminal proceeding germany connection scandal trial date set also charged u authority extradited two volkswagen executive went prison u   \n",
       "2                                                                                                                                                                                                                                                                                                                                                                                                                                                                                                                                                                           zagreb croatia ap former audi engineering manager sought united state diesel emission cheating scandal arrested croatia country interior ministry said wednesday axel eiser arrested international warrant issued u crossed croatia slovenia june ministry said written statement held detention center northern adriatic sea town pula step taken inform german embassy since eiser german citizen statement added detail immediately known germany constitution forbids extradition citizen another european union member nation international court federal grand jury detroit michigan charged eiser three others last year count indictment alleging conspiracy wire fraud violation clean air act indictment alleged men took part nearly decade long conspiracy deceive u environmental protection agency cheating emission test liter diesel engine audi luxury brand owned german automaker volkswagen volkswagen pleaded guilty criminal charge scandal faced billion penalty lawsuit settlement cost eiser head audi diesel engine development department ingolstadt germany around may   \n",
       "3                                                                                                                                                                                                                                                                                                                                                                                                                                                                                                                                                                                                                                                                                                                                                                                                                                 berlin ap former head volkswagen luxury division audi set go trial end september fraud charge related company diesel emission scandal state court munich said monday trial rupert stadler three others open sept news agency dpa reported prosecutor last year charged stadler suspect fraud false certification criminal advertising adding another chapter volkswagen diesel scandal also led charge u germany volkswagen former ceo martin winterkorn suspect accused developed engine used audi volkswagen porsche model software made emission control work better test stand road prosecutor alleged stadler knew manipulation audi volkswagen car nevertheless kept selling model stadler audi bos denied knowing participating diesel manipulation volkswagen caught u authority september paid billion dollar fine civil settlement   \n",
       "4                                                                                                                                                                                                                                                      detroit ap volkswagen recalling nearly older vehicle sold audi luxury brand takata driver air bag inflator may function properly could hurl shrapnel crash vehicle may one million air bag inflator takata recalled december new distinct problem previous takata recall still explode much force blow apart metal canister new problem led least one death many car audi recall two decade old include certain tt roadster tt coupe unlike previous takata recall batch inflator contain volatile ammonium nitrate still malfunction due manufacturing error national highway traffic safety administration said document posted website thursday vw notify owner march replacement part available present owner get second letter part manufactured audi working intensively remedy supplier currently unclear remedy available automaker said government document driver australia killed one air bag malfunctioned another australian driver cyprus injured according government document addition audi vehicle made bmw honda toyota mitsubishi also recalled government document audi said aware inflator explosion problem field worldwide vehicle inflator without ammonium nitrate testing show air bag could underinflate deploy crash takata inflator blamed least death injury worldwide million inflator recalled u largest string automotive recall nation history problem forced takata japan bankruptcy   \n",
       "\n",
       "                                source  \\\n",
       "0    Associated Press Financial Wire     \n",
       "1    Associated Press Financial Wire     \n",
       "2    Associated Press Financial Wire     \n",
       "3    Associated Press Financial Wire     \n",
       "4    Associated Press Financial Wire     \n",
       "\n",
       "                                                              title  \\\n",
       "0    US agency opens 2 safety probes of Volkswagen  Audi vehicles     \n",
       "1       Former Audi chief on trial in VW diesel emissions scandal     \n",
       "2     Ex Audi manager sought by US in diesel case held in Croatia     \n",
       "3     Former Audi boss faces trial in September in diesel scandal     \n",
       "4    Audi recalls 107K US vehicles for new Takata air bag problem     \n",
       "\n",
       "             date company      sector sentiment  confidence  \n",
       "0  ['2021-04-02']    Audi  Automobile  NEGATIVE    0.906216  \n",
       "1  ['2020-09-30']    Audi  Automobile  NEGATIVE    0.996427  \n",
       "2  ['2020-06-17']    Audi  Automobile  NEGATIVE    0.989736  \n",
       "3  ['2020-06-09']    Audi  Automobile  NEGATIVE    0.998740  \n",
       "4  ['2020-02-26']    Audi  Automobile  NEGATIVE    0.999722  "
      ]
     },
     "execution_count": 92,
     "metadata": {},
     "output_type": "execute_result"
    }
   ],
   "source": [
    "dflol.head()"
   ]
  },
  {
   "cell_type": "code",
   "execution_count": null,
   "metadata": {},
   "outputs": [],
   "source": []
  },
  {
   "cell_type": "code",
   "execution_count": null,
   "metadata": {},
   "outputs": [],
   "source": []
  }
 ],
 "metadata": {
  "colab": {
   "authorship_tag": "ABX9TyMKVwvTbiuBNgmdVBJptt4A",
   "collapsed_sections": [
    "kt1HhdW0-vlf"
   ],
   "mount_file_id": "1PW0y9NerDqDy7hYXpMm5TZae__8IpT0c",
   "name": "SA_flair.ipynb",
   "provenance": []
  },
  "kernelspec": {
   "display_name": "Python 3",
   "language": "python",
   "name": "python3"
  },
  "language_info": {
   "codemirror_mode": {
    "name": "ipython",
    "version": 3
   },
   "file_extension": ".py",
   "mimetype": "text/x-python",
   "name": "python",
   "nbconvert_exporter": "python",
   "pygments_lexer": "ipython3",
   "version": "3.8.8"
  }
 },
 "nbformat": 4,
 "nbformat_minor": 1
}
