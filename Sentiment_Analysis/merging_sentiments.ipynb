{
 "cells": [
  {
   "cell_type": "markdown",
   "metadata": {},
   "source": [
    "# Importing data and libraries"
   ]
  },
  {
   "cell_type": "code",
   "execution_count": 1,
   "metadata": {},
   "outputs": [],
   "source": [
    "import numpy as np \n",
    "import pandas as pd "
   ]
  },
  {
   "cell_type": "code",
   "execution_count": 3,
   "metadata": {},
   "outputs": [],
   "source": [
    "df_flair = pd.read_excel('/Users/selim/Desktop/MA1/ML/Local tests/Sentiment Analysis/SA_Flair.xlsx')\n",
    "df_vader = pd.read_excel('/Users/selim/Desktop/MA1/ML/Local tests/Sentiment Analysis/SA_Vader.xlsx')\n",
    "df_textblob = pd.read_excel('/Users/selim/Desktop/MA1/ML/Local tests/Sentiment Analysis/SA_textblob.xlsx')"
   ]
  },
  {
   "cell_type": "markdown",
   "metadata": {},
   "source": [
    "Remark: Change file paths accroding to your own directories in order to assure smooth code execution "
   ]
  },
  {
   "cell_type": "markdown",
   "metadata": {},
   "source": [
    "# Flair"
   ]
  },
  {
   "cell_type": "code",
   "execution_count": 8,
   "metadata": {},
   "outputs": [],
   "source": [
    "# We rename columns according to the library\n",
    "df_flair = df_flair.rename(columns={'sentiment': 'flair sentiment', 'confidence': 'flair confidence'})"
   ]
  },
  {
   "cell_type": "markdown",
   "metadata": {},
   "source": [
    "# Vader"
   ]
  },
  {
   "cell_type": "code",
   "execution_count": 11,
   "metadata": {},
   "outputs": [],
   "source": [
    "# We rename columns according to the library\n",
    "df_vader = df_vader.rename(columns={'scores': 'vader scores', 'compound': 'vader compound', 'label': 'vader label'})"
   ]
  },
  {
   "cell_type": "markdown",
   "metadata": {},
   "source": [
    "# Textblob"
   ]
  },
  {
   "cell_type": "code",
   "execution_count": 14,
   "metadata": {},
   "outputs": [],
   "source": [
    "# We rename columns according to the library\n",
    "df_textblob = df_textblob.rename(columns={'polarity': 'textblob polarity', 'subjectivity': 'textblob subjectivity', 'label': 'textblob label'})"
   ]
  },
  {
   "cell_type": "markdown",
   "metadata": {},
   "source": [
    "# Merging the data"
   ]
  },
  {
   "cell_type": "code",
   "execution_count": 41,
   "metadata": {},
   "outputs": [],
   "source": [
    "# We add all Vader features in the flair dataframe\n",
    "df_flair['vader scores'] = df_vader['vader scores']\n",
    "df_flair['vader compound'] = df_vader['vader compound']\n",
    "df_flair['vader label'] = df_vader['vader label']"
   ]
  },
  {
   "cell_type": "code",
   "execution_count": 44,
   "metadata": {},
   "outputs": [],
   "source": [
    "# We add all Textblob features in the flair dataframe\n",
    "df_flair['textblob polarity'] = df_textblob['textblob polarity']\n",
    "df_flair['textblob subjectivity'] = df_textblob['textblob subjectivity']\n",
    "df_flair['textblob label'] = df_textblob['textblob label']"
   ]
  },
  {
   "cell_type": "code",
   "execution_count": 46,
   "metadata": {},
   "outputs": [],
   "source": [
    "# We drop the articles \n",
    "df = df_flair.drop(columns=['text'])"
   ]
  },
  {
   "cell_type": "markdown",
   "metadata": {},
   "source": [
    "# Saving output to xlsx"
   ]
  },
  {
   "cell_type": "code",
   "execution_count": 52,
   "metadata": {},
   "outputs": [],
   "source": [
    "df.to_excel('/Users/selim/Desktop/MA1/ML/Local tests/Sentiment Analysis/sentiment_analysis.xlsx', index=False)"
   ]
  }
 ],
 "metadata": {
  "interpreter": {
   "hash": "8a4d93c6af53accafcbe363445a8d4b9073871d3a7503fc566dc9e8ca870f026"
  },
  "kernelspec": {
   "display_name": "Python 3.9.7 64-bit ('base': conda)",
   "language": "python",
   "name": "python3"
  },
  "language_info": {
   "codemirror_mode": {
    "name": "ipython",
    "version": 3
   },
   "file_extension": ".py",
   "mimetype": "text/x-python",
   "name": "python",
   "nbconvert_exporter": "python",
   "pygments_lexer": "ipython3",
   "version": "3.9.7"
  },
  "orig_nbformat": 4
 },
 "nbformat": 4,
 "nbformat_minor": 2
}
