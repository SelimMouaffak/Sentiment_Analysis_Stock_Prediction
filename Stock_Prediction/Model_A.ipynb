{
 "cells": [
  {
   "cell_type": "code",
   "execution_count": 1,
   "id": "c3343a57",
   "metadata": {},
   "outputs": [],
   "source": [
    "# All the necessary imports\n",
    "import pandas as pd\n",
    "import numpy as np\n",
    "import re\n",
    "from datetime import datetime\n",
    "from keras.models import Sequential\n",
    "from keras.layers import Dense, LSTM\n",
    "from sklearn.preprocessing import MinMaxScaler\n",
    "import matplotlib.pyplot as plt\n",
    "import seaborn as sns\n",
    "sns.set_style('whitegrid')\n",
    "plt.style.use(\"fivethirtyeight\")\n",
    "%matplotlib inline"
   ]
  },
  {
   "cell_type": "markdown",
   "id": "904a2044",
   "metadata": {},
   "source": [
    "### Remark: For a smooth code execution, it is recommended to download all the excel files required in a folder named \"Dataset_Needed\" and the folder should be in the same directory as this jupyter notebook file, otherwise it will be necessary to change the paths name during the execution."
   ]
  },
  {
   "cell_type": "markdown",
   "id": "8a2f34c2",
   "metadata": {},
   "source": [
    "## Dataset: Companies names per sector"
   ]
  },
  {
   "cell_type": "code",
   "execution_count": 2,
   "id": "687e4960",
   "metadata": {},
   "outputs": [],
   "source": [
    "# Function that will help us retrieve all the companies names from our dataset\n",
    "def get_companies(data):\n",
    "    df = pd.DataFrame(data, columns= ['company'])\n",
    "    companies = df.to_numpy().flatten()\n",
    "    companies = list(dict.fromkeys(companies))\n",
    "    return companies"
   ]
  },
  {
   "cell_type": "code",
   "execution_count": 3,
   "id": "feac9a4a",
   "metadata": {},
   "outputs": [],
   "source": [
    "# We get the data from our excel files\n",
    "data_tech = pd.read_excel(r'Dataset_Needed\\tech.xlsx')\n",
    "data_automobile = pd.read_excel(r'Dataset_Needed\\automobile.xlsx')\n",
    "data_fashion = pd.read_excel(r'Dataset_Needed\\fashion.xlsx')\n",
    "data_finance = pd.read_excel(r'Dataset_Needed\\finance.xlsx')"
   ]
  },
  {
   "cell_type": "code",
   "execution_count": 4,
   "id": "0b5e6a44",
   "metadata": {},
   "outputs": [],
   "source": [
    "# We store all our companies names in arrays\n",
    "companies_tech = get_companies(data_tech)\n",
    "companies_automobile = get_companies(data_automobile)\n",
    "companies_fashion = get_companies(data_fashion)\n",
    "companies_finance = get_companies(data_finance)"
   ]
  },
  {
   "cell_type": "code",
   "execution_count": 5,
   "id": "2304b6f2",
   "metadata": {},
   "outputs": [
    {
     "name": "stdout",
     "output_type": "stream",
     "text": [
      "['Adobe', 'AMD', 'Alibaba', 'Amazon', 'Apple', 'Cisco', 'Facebook', 'HP', 'IBM', 'Intel', 'Microsoft', 'Netflix', 'NVIDIA', 'Salesforce', 'SAP', 'Spotify', 'Tencent', 'Twitter', 'Samsung', 'Qualcomm', 'Broadcom', 'Texas', 'Google', 'Oracle', 'Sony', 'TSMC']\n",
      "['Audi', 'BMW', 'Daimler', 'Ford', 'GM', 'Honda', 'Hyundai', 'Nissan', 'Renault', 'Tesla', 'Toyota', 'Volkswagen', 'Kia', 'Stellantis', 'Geely', 'Harley Da']\n",
      "['Nike', 'Adidas', 'Lululemon', 'Under Armour', 'H&M', 'LVMH', 'Inditex', 'TJX Cos', 'L Brands', 'Anta Sports', 'VF Corp', 'Kering', 'Richemont', 'Fast Retailing', 'Burberry']\n",
      "['Allianz', 'Amex', 'AIG', 'AXA', 'Bank of America', 'Capital One', 'Credit Suisse', 'Discover Financials', 'ING', 'Mastercard', 'UBS', 'Visa', 'Wells Fargo', 'JP Morgan', 'Goldman Sachs', 'Goldman Sa', 'DBS', 'Square', 'Paypal', 'Citi Group', 'HSBC', 'Ping An']\n"
     ]
    }
   ],
   "source": [
    "# We print the companies names we have in our dataset per sector\n",
    "print(companies_tech)\n",
    "print(companies_automobile)\n",
    "print(companies_fashion)\n",
    "print(companies_finance)"
   ]
  },
  {
   "cell_type": "markdown",
   "id": "00dd65b8",
   "metadata": {},
   "source": [
    "## Dataset: News coefficients per company"
   ]
  },
  {
   "cell_type": "code",
   "execution_count": 6,
   "id": "a00e0235",
   "metadata": {},
   "outputs": [],
   "source": [
    "# Useful method to get the dates of the news\n",
    "def clean(date):\n",
    "    date = re.sub('[^0-9-]+', '', date)\n",
    "    return datetime.strptime(date, '%Y-%m-%d')\n",
    "# Useful method to get an aggregate of the different news values \n",
    "def get_cumul(date):\n",
    "    df_date = df_news[df_news['date'] < date]\n",
    "    array = df_date['flair polarity'].values\n",
    "    sum = np.sum(array)\n",
    "    avg = sum / len(array)\n",
    "    return avg"
   ]
  },
  {
   "cell_type": "code",
   "execution_count": 7,
   "id": "eca519cb",
   "metadata": {},
   "outputs": [],
   "source": [
    "# Importing the news\n",
    "df_news = pd.read_excel(r'Dataset_Needed\\sentiment_analysis.xlsx')\n",
    "df_news['flair polarity'] = df_news.apply(lambda row: (row['flair confidence']*-1\n",
    "                                                        if row['flair sentiment'] == 'NEGATIVE'\n",
    "                                                        else row['flair confidence']), axis=1)\n",
    "df_news = df_news[['date', 'company', 'flair polarity']]\n",
    "df_news['date'] = df_news['date'].apply(clean)\n",
    "df_news = df_news[df_news['date'] > datetime(2010, 12, 31)].sort_values(by='date', ascending=False)"
   ]
  },
  {
   "cell_type": "markdown",
   "id": "11432ae8",
   "metadata": {},
   "source": [
    "## Stock prediction: using our sentiment coefficients to predict the closing prices"
   ]
  },
  {
   "cell_type": "code",
   "execution_count": 8,
   "id": "969ba550",
   "metadata": {},
   "outputs": [],
   "source": [
    "# Read all the stocks we have obtained from yahoo finance and import them in our data frame\n",
    "df = pd.read_excel(r'Dataset_Needed\\stocks_all_78.xlsx')\n",
    "df = df[df['Date'] > datetime(2010, 12, 31)].sort_values(by='Date', ascending=False)"
   ]
  },
  {
   "cell_type": "code",
   "execution_count": 9,
   "id": "3141a3f2",
   "metadata": {},
   "outputs": [],
   "source": [
    "# This is the company's name, for this example we will use Adobe\n",
    "company_name = 'Adobe'\n",
    "\n",
    "# We get the stocks and news about that company\n",
    "df = df[df['company_name'] == company_name]\n",
    "df_news = df_news[df_news['company'] == company_name]"
   ]
  },
  {
   "cell_type": "code",
   "execution_count": 10,
   "id": "1dca9a7f",
   "metadata": {},
   "outputs": [],
   "source": [
    "# Get the sentiment coefficient of the news and add it to our data frame\n",
    "df['cumulative polarity'] = df['Date'].apply(get_cumul)\n",
    "df = df.fillna(0)\n",
    "df = df.set_index('Date').drop(columns=['company_name'])"
   ]
  },
  {
   "cell_type": "code",
   "execution_count": 11,
   "id": "8efd9430",
   "metadata": {},
   "outputs": [],
   "source": [
    "# Create a new dataframe with only the Closing values and the sentiment coefficients \n",
    "data = df.filter(['Close', 'cumulative polarity'])\n",
    "data = data.iloc[::-1]\n",
    "\n",
    "# Convert the dataframe to a numpy array\n",
    "dataset = data.values"
   ]
  },
  {
   "cell_type": "code",
   "execution_count": 12,
   "id": "c8807467",
   "metadata": {},
   "outputs": [],
   "source": [
    "# We will obtain the training data which will represent 95% of our data\n",
    "training_data_len = int(np.ceil( len(dataset) * .95 ))\n",
    "\n",
    "# We scale our data to the range (0,1) as it will make our RNN model more efficient\n",
    "scaler = MinMaxScaler(feature_range=(0,1))\n",
    "scaled_data = scaler.fit_transform(dataset)\n",
    "\n",
    "# Finally we get our training data\n",
    "train_data = scaled_data[0:int(training_data_len), :]"
   ]
  },
  {
   "cell_type": "code",
   "execution_count": 13,
   "id": "0ec57d9f",
   "metadata": {},
   "outputs": [],
   "source": [
    "# Our model will take 2 parameters as inputs and outputs who are as mentioned: Closing price & sentiment coefficient\n",
    "input_dim = 2\n",
    "output_dim = 2"
   ]
  },
  {
   "cell_type": "code",
   "execution_count": 14,
   "id": "04f44910",
   "metadata": {},
   "outputs": [],
   "source": [
    "# Now our goal is to obtain the x's and y's of our training data\n",
    "x_train = []\n",
    "y_train = []\n",
    "\n",
    "# The look_back value will be used in the stock prediction, we set it by default to 60\n",
    "look_back = 60\n",
    "for i in range(look_back, len(train_data)):\n",
    "    x_train.append(train_data[i-look_back:i])\n",
    "    y_train.append(train_data[i])  \n",
    "    \n",
    "# Convert the x_train and y_train to numpy arrays \n",
    "x_train, y_train = np.array(x_train), np.array(y_train)\n",
    "\n",
    "# Reshape the data to (x_train.shape[0], x_train.shape[0], output_dim)\n",
    "x_train = np.reshape(x_train, (x_train.shape[0], x_train.shape[1], output_dim))"
   ]
  },
  {
   "cell_type": "code",
   "execution_count": 15,
   "id": "e521a698",
   "metadata": {},
   "outputs": [],
   "source": [
    "# In this part, we will set our RNN model with the following parameters\n",
    "model = Sequential()\n",
    "model.add(LSTM(128, return_sequences=True, input_shape= (x_train.shape[1], input_dim)))\n",
    "model.add(LSTM(64, return_sequences=False))\n",
    "model.add(Dense(25))\n",
    "model.add(Dense(output_dim))"
   ]
  },
  {
   "cell_type": "code",
   "execution_count": 16,
   "id": "6d730194",
   "metadata": {},
   "outputs": [
    {
     "name": "stdout",
     "output_type": "stream",
     "text": [
      "2332/2332 [==============================] - 24s 10ms/step - loss: 0.0019\n"
     ]
    },
    {
     "data": {
      "text/plain": [
       "<keras.callbacks.History at 0x181cd143550>"
      ]
     },
     "execution_count": 16,
     "metadata": {},
     "output_type": "execute_result"
    }
   ],
   "source": [
    "# Compile the model\n",
    "model.compile(optimizer='adam', loss='mean_squared_error')\n",
    "\n",
    "# Train the model\n",
    "model.fit(x_train, y_train, batch_size=1, epochs=1)"
   ]
  },
  {
   "cell_type": "code",
   "execution_count": 17,
   "id": "3adcff52",
   "metadata": {},
   "outputs": [],
   "source": [
    "# Now we create the testing data similarly to the training data but with the remaining 5% of our data\n",
    "test_data = scaled_data[training_data_len - look_back: , :]\n",
    "\n",
    "# Now our goal is to obtain the x's and y's of our testing data\n",
    "x_test = []\n",
    "y_test = dataset[int(training_data_len):, :]\n",
    "for i in range(look_back, len(test_data)):\n",
    "    x_test.append(test_data[i-look_back:i])\n",
    "    \n",
    "# Convert the data to a numpy array\n",
    "x_test = np.array(x_test)\n",
    "\n",
    "# Reshape the data\n",
    "x_test = np.reshape(x_test, (x_test.shape[0], x_test.shape[1], output_dim ))"
   ]
  },
  {
   "cell_type": "code",
   "execution_count": 18,
   "id": "12e4b00d",
   "metadata": {},
   "outputs": [
    {
     "name": "stdout",
     "output_type": "stream",
     "text": [
      "7.066822287850181  %\n"
     ]
    }
   ],
   "source": [
    "# Now we test our model by making predictions on the testing data and outputting the MAPE value\n",
    "y_test = y_test[:,0]\n",
    "predictions = model.predict(x_test)\n",
    "predictions = scaler.inverse_transform(predictions)\n",
    "predictions = predictions[:,0]\n",
    "mape = np.mean(np.abs((y_test - predictions) / y_test)) * 100\n",
    "print(mape, ' %')"
   ]
  },
  {
   "cell_type": "markdown",
   "id": "333ddb82",
   "metadata": {},
   "source": [
    "## Visualization: How accurate was our prediction"
   ]
  },
  {
   "cell_type": "code",
   "execution_count": 19,
   "id": "222f9f40",
   "metadata": {},
   "outputs": [
    {
     "name": "stderr",
     "output_type": "stream",
     "text": [
      "<ipython-input-19-c6cb20b0ec05>:4: SettingWithCopyWarning: \n",
      "A value is trying to be set on a copy of a slice from a DataFrame.\n",
      "Try using .loc[row_indexer,col_indexer] = value instead\n",
      "\n",
      "See the caveats in the documentation: https://pandas.pydata.org/pandas-docs/stable/user_guide/indexing.html#returning-a-view-versus-a-copy\n",
      "  valid['Predictions'] = predictions\n"
     ]
    }
   ],
   "source": [
    "# Plot the data\n",
    "train = data[:training_data_len]\n",
    "valid = data[training_data_len:]\n",
    "valid['Predictions'] = predictions"
   ]
  },
  {
   "cell_type": "code",
   "execution_count": 20,
   "id": "cbcad5bf",
   "metadata": {},
   "outputs": [
    {
     "data": {
      "image/png": "[encoded data removed]",
      "text/plain": [
       "<Figure size 1152x432 with 1 Axes>"
      ]
     },
     "metadata": {
      "needs_background": "light"
     },
     "output_type": "display_data"
    }
   ],
   "source": [
    "# Visualize the data\n",
    "plt.figure(figsize=(16,6))\n",
    "plt.title('Model')\n",
    "plt.xlabel('Date', fontsize=18)\n",
    "plt.ylabel('Close Price USD ($)', fontsize=18)\n",
    "plt.plot(train['Close'])\n",
    "plt.plot(valid[['Close', 'Predictions']])\n",
    "plt.legend(['Train', 'Val', 'Predictions'], loc='lower right')\n",
    "plt.show()"
   ]
  },
  {
   "cell_type": "code",
   "execution_count": 21,
   "id": "a21c497a",
   "metadata": {},
   "outputs": [
    {
     "data": {
      "text/html": [
       "<div>\n",
       "<style scoped>\n",
       "    .dataframe tbody tr th:only-of-type {\n",
       "        vertical-align: middle;\n",
       "    }\n",
       "\n",
       "    .dataframe tbody tr th {\n",
       "        vertical-align: top;\n",
       "    }\n",
       "\n",
       "    .dataframe thead th {\n",
       "        text-align: right;\n",
       "    }\n",
       "</style>\n",
       "<table border=\"1\" class=\"dataframe\">\n",
       "  <thead>\n",
       "    <tr style=\"text-align: right;\">\n",
       "      <th></th>\n",
       "      <th>Close</th>\n",
       "      <th>cumulative polarity</th>\n",
       "      <th>Predictions</th>\n",
       "    </tr>\n",
       "    <tr>\n",
       "      <th>Date</th>\n",
       "      <th></th>\n",
       "      <th></th>\n",
       "      <th></th>\n",
       "    </tr>\n",
       "  </thead>\n",
       "  <tbody>\n",
       "    <tr>\n",
       "      <th>2021-06-09</th>\n",
       "      <td>514.679993</td>\n",
       "      <td>-0.348887</td>\n",
       "      <td>480.195099</td>\n",
       "    </tr>\n",
       "    <tr>\n",
       "      <th>2021-06-10</th>\n",
       "      <td>535.520020</td>\n",
       "      <td>-0.348887</td>\n",
       "      <td>482.214539</td>\n",
       "    </tr>\n",
       "    <tr>\n",
       "      <th>2021-06-11</th>\n",
       "      <td>541.260010</td>\n",
       "      <td>-0.348887</td>\n",
       "      <td>486.330505</td>\n",
       "    </tr>\n",
       "    <tr>\n",
       "      <th>2021-06-14</th>\n",
       "      <td>556.950012</td>\n",
       "      <td>-0.348887</td>\n",
       "      <td>491.607300</td>\n",
       "    </tr>\n",
       "    <tr>\n",
       "      <th>2021-06-15</th>\n",
       "      <td>548.460022</td>\n",
       "      <td>-0.348887</td>\n",
       "      <td>498.459930</td>\n",
       "    </tr>\n",
       "    <tr>\n",
       "      <th>...</th>\n",
       "      <td>...</td>\n",
       "      <td>...</td>\n",
       "      <td>...</td>\n",
       "    </tr>\n",
       "    <tr>\n",
       "      <th>2021-11-29</th>\n",
       "      <td>687.489990</td>\n",
       "      <td>-0.348887</td>\n",
       "      <td>623.142273</td>\n",
       "    </tr>\n",
       "    <tr>\n",
       "      <th>2021-11-30</th>\n",
       "      <td>669.849976</td>\n",
       "      <td>-0.348887</td>\n",
       "      <td>624.469299</td>\n",
       "    </tr>\n",
       "    <tr>\n",
       "      <th>2021-12-01</th>\n",
       "      <td>657.409973</td>\n",
       "      <td>-0.348887</td>\n",
       "      <td>624.881287</td>\n",
       "    </tr>\n",
       "    <tr>\n",
       "      <th>2021-12-02</th>\n",
       "      <td>671.880005</td>\n",
       "      <td>-0.348887</td>\n",
       "      <td>623.693970</td>\n",
       "    </tr>\n",
       "    <tr>\n",
       "      <th>2021-12-03</th>\n",
       "      <td>616.530029</td>\n",
       "      <td>-0.348887</td>\n",
       "      <td>623.254944</td>\n",
       "    </tr>\n",
       "  </tbody>\n",
       "</table>\n",
       "<p>125 rows × 3 columns</p>\n",
       "</div>"
      ],
      "text/plain": [
       "                 Close  cumulative polarity  Predictions\n",
       "Date                                                    \n",
       "2021-06-09  514.679993            -0.348887   480.195099\n",
       "2021-06-10  535.520020            -0.348887   482.214539\n",
       "2021-06-11  541.260010            -0.348887   486.330505\n",
       "2021-06-14  556.950012            -0.348887   491.607300\n",
       "2021-06-15  548.460022            -0.348887   498.459930\n",
       "...                ...                  ...          ...\n",
       "2021-11-29  687.489990            -0.348887   623.142273\n",
       "2021-11-30  669.849976            -0.348887   624.469299\n",
       "2021-12-01  657.409973            -0.348887   624.881287\n",
       "2021-12-02  671.880005            -0.348887   623.693970\n",
       "2021-12-03  616.530029            -0.348887   623.254944\n",
       "\n",
       "[125 rows x 3 columns]"
      ]
     },
     "execution_count": 21,
     "metadata": {},
     "output_type": "execute_result"
    }
   ],
   "source": [
    "# We can have a look at the real close values vs the predicted ones\n",
    "valid"
   ]
  }
 ],
 "metadata": {
  "kernelspec": {
   "display_name": "Python 3",
   "language": "python",
   "name": "python3"
  },
  "language_info": {
   "codemirror_mode": {
    "name": "ipython",
    "version": 3
   },
   "file_extension": ".py",
   "mimetype": "text/x-python",
   "name": "python",
   "nbconvert_exporter": "python",
   "pygments_lexer": "ipython3",
   "version": "3.8.8"
  }
 },
 "nbformat": 4,
 "nbformat_minor": 5
}
