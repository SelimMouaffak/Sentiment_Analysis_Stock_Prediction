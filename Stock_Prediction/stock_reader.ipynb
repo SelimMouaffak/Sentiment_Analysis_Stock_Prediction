{
 "cells": [
  {
   "cell_type": "markdown",
   "id": "91bc7af5",
   "metadata": {},
   "source": [
    "### In this section, we will explain how we obtained our stock data from yahoo finance"
   ]
  },
  {
   "cell_type": "code",
   "execution_count": 1,
   "id": "49bd3517",
   "metadata": {},
   "outputs": [],
   "source": [
    "# All the necessary imports\n",
    "import pandas as pd\n",
    "import numpy as np\n",
    "from pandas_datareader.data import DataReader\n",
    "from datetime import datetime\n",
    "import matplotlib.pyplot as plt\n",
    "import seaborn as sns\n",
    "sns.set_style('whitegrid')\n",
    "plt.style.use(\"fivethirtyeight\")\n",
    "%matplotlib inline"
   ]
  },
  {
   "cell_type": "markdown",
   "id": "41fbc846",
   "metadata": {},
   "source": [
    "## Import stock data from yahoo finance"
   ]
  },
  {
   "cell_type": "code",
   "execution_count": 2,
   "id": "c97b0cdb",
   "metadata": {},
   "outputs": [],
   "source": [
    "# For this demonstration, we will try to get the stocks of Google from yahoo finance\n",
    "company_name = 'Google'"
   ]
  },
  {
   "cell_type": "code",
   "execution_count": 3,
   "id": "15e57e1f",
   "metadata": {},
   "outputs": [],
   "source": [
    "# But first, we will need its ticker symbol that we can get from our dataset Ticker2-finder-Excel.xlsx\n",
    "data = pd.read_excel(r'Dataset_Needed\\\\Ticker2-finder-Excel.xlsx')\n",
    "df_Symbol = pd.DataFrame(data, columns= ['Symbol'])\n",
    "symbols = df_Symbol.to_numpy().flatten()\n",
    "df_Name = pd.DataFrame(data, columns= [\"Name\"])\n",
    "names = df_Name.to_numpy().flatten()"
   ]
  },
  {
   "cell_type": "code",
   "execution_count": 4,
   "id": "34e191d7",
   "metadata": {},
   "outputs": [
    {
     "data": {
      "text/plain": [
       "'GOOG'"
      ]
     },
     "execution_count": 4,
     "metadata": {},
     "output_type": "execute_result"
    }
   ],
   "source": [
    "ticker = \"\"\n",
    "for i in range(len(names)):\n",
    "    if company_name in names[i]:\n",
    "        ticker = symbols[i]\n",
    "        break\n",
    "ticker"
   ]
  },
  {
   "cell_type": "code",
   "execution_count": 5,
   "id": "844f70ca",
   "metadata": {},
   "outputs": [],
   "source": [
    "# Now that we have our ticker symbol, we can import yahoo finance data for 10 years as follows\n",
    "end = datetime.now()\n",
    "start = datetime(end.year - 1, end.month, end.day)\n",
    "globals()[ticker] = DataReader(ticker, 'yahoo', start, end)"
   ]
  },
  {
   "cell_type": "code",
   "execution_count": 6,
   "id": "94e019ae",
   "metadata": {},
   "outputs": [],
   "source": [
    "# We need to use ticker as a variable in order to be able to retrieve the necessary informations\n",
    "ticker = locals()[ticker]"
   ]
  },
  {
   "cell_type": "code",
   "execution_count": 7,
   "id": "a6d52a3a",
   "metadata": {},
   "outputs": [
    {
     "data": {
      "text/html": [
       "<div>\n",
       "<style scoped>\n",
       "    .dataframe tbody tr th:only-of-type {\n",
       "        vertical-align: middle;\n",
       "    }\n",
       "\n",
       "    .dataframe tbody tr th {\n",
       "        vertical-align: top;\n",
       "    }\n",
       "\n",
       "    .dataframe thead th {\n",
       "        text-align: right;\n",
       "    }\n",
       "</style>\n",
       "<table border=\"1\" class=\"dataframe\">\n",
       "  <thead>\n",
       "    <tr style=\"text-align: right;\">\n",
       "      <th></th>\n",
       "      <th>High</th>\n",
       "      <th>Low</th>\n",
       "      <th>Open</th>\n",
       "      <th>Close</th>\n",
       "      <th>Volume</th>\n",
       "      <th>Adj Close</th>\n",
       "    </tr>\n",
       "  </thead>\n",
       "  <tbody>\n",
       "    <tr>\n",
       "      <th>count</th>\n",
       "      <td>252.000000</td>\n",
       "      <td>252.000000</td>\n",
       "      <td>252.000000</td>\n",
       "      <td>252.000000</td>\n",
       "      <td>2.520000e+02</td>\n",
       "      <td>252.000000</td>\n",
       "    </tr>\n",
       "    <tr>\n",
       "      <th>mean</th>\n",
       "      <td>2503.090988</td>\n",
       "      <td>2459.121552</td>\n",
       "      <td>2479.935837</td>\n",
       "      <td>2482.520952</td>\n",
       "      <td>1.271083e+06</td>\n",
       "      <td>2482.520952</td>\n",
       "    </tr>\n",
       "    <tr>\n",
       "      <th>std</th>\n",
       "      <td>379.941997</td>\n",
       "      <td>378.052056</td>\n",
       "      <td>380.886908</td>\n",
       "      <td>379.164855</td>\n",
       "      <td>4.928485e+05</td>\n",
       "      <td>379.164855</td>\n",
       "    </tr>\n",
       "    <tr>\n",
       "      <th>min</th>\n",
       "      <td>1746.000000</td>\n",
       "      <td>1699.000000</td>\n",
       "      <td>1702.630005</td>\n",
       "      <td>1728.239990</td>\n",
       "      <td>3.468000e+05</td>\n",
       "      <td>1728.239990</td>\n",
       "    </tr>\n",
       "    <tr>\n",
       "      <th>25%</th>\n",
       "      <td>2130.100037</td>\n",
       "      <td>2093.449890</td>\n",
       "      <td>2100.847412</td>\n",
       "      <td>2113.212524</td>\n",
       "      <td>9.461000e+05</td>\n",
       "      <td>2113.212524</td>\n",
       "    </tr>\n",
       "    <tr>\n",
       "      <th>50%</th>\n",
       "      <td>2544.664917</td>\n",
       "      <td>2516.223022</td>\n",
       "      <td>2530.719971</td>\n",
       "      <td>2529.165039</td>\n",
       "      <td>1.153300e+06</td>\n",
       "      <td>2529.165039</td>\n",
       "    </tr>\n",
       "    <tr>\n",
       "      <th>75%</th>\n",
       "      <td>2850.552490</td>\n",
       "      <td>2810.734985</td>\n",
       "      <td>2820.257446</td>\n",
       "      <td>2832.645081</td>\n",
       "      <td>1.420500e+06</td>\n",
       "      <td>2832.645081</td>\n",
       "    </tr>\n",
       "    <tr>\n",
       "      <th>max</th>\n",
       "      <td>3037.000000</td>\n",
       "      <td>2997.750000</td>\n",
       "      <td>3020.000000</td>\n",
       "      <td>3014.179932</td>\n",
       "      <td>4.118200e+06</td>\n",
       "      <td>3014.179932</td>\n",
       "    </tr>\n",
       "  </tbody>\n",
       "</table>\n",
       "</div>"
      ],
      "text/plain": [
       "              High          Low         Open        Close        Volume  \\\n",
       "count   252.000000   252.000000   252.000000   252.000000  2.520000e+02   \n",
       "mean   2503.090988  2459.121552  2479.935837  2482.520952  1.271083e+06   \n",
       "std     379.941997   378.052056   380.886908   379.164855  4.928485e+05   \n",
       "min    1746.000000  1699.000000  1702.630005  1728.239990  3.468000e+05   \n",
       "25%    2130.100037  2093.449890  2100.847412  2113.212524  9.461000e+05   \n",
       "50%    2544.664917  2516.223022  2530.719971  2529.165039  1.153300e+06   \n",
       "75%    2850.552490  2810.734985  2820.257446  2832.645081  1.420500e+06   \n",
       "max    3037.000000  2997.750000  3020.000000  3014.179932  4.118200e+06   \n",
       "\n",
       "         Adj Close  \n",
       "count   252.000000  \n",
       "mean   2482.520952  \n",
       "std     379.164855  \n",
       "min    1728.239990  \n",
       "25%    2113.212524  \n",
       "50%    2529.165039  \n",
       "75%    2832.645081  \n",
       "max    3014.179932  "
      ]
     },
     "execution_count": 7,
     "metadata": {},
     "output_type": "execute_result"
    }
   ],
   "source": [
    "ticker.describe()"
   ]
  }
 ],
 "metadata": {
  "kernelspec": {
   "display_name": "Python 3",
   "language": "python",
   "name": "python3"
  },
  "language_info": {
   "codemirror_mode": {
    "name": "ipython",
    "version": 3
   },
   "file_extension": ".py",
   "mimetype": "text/x-python",
   "name": "python",
   "nbconvert_exporter": "python",
   "pygments_lexer": "ipython3",
   "version": "3.8.8"
  }
 },
 "nbformat": 4,
 "nbformat_minor": 5
}
