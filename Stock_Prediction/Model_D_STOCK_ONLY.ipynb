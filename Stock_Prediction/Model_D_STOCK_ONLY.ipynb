{
 "cells": [
  {
   "cell_type": "markdown",
   "metadata": {},
   "source": [
    "# Importing data and libraries"
   ]
  },
  {
   "cell_type": "code",
   "execution_count": 138,
   "metadata": {},
   "outputs": [],
   "source": [
    "import numpy as np \n",
    "import pandas as pd\n",
    "from datetime import datetime\n",
    "import re\n",
    "import matplotlib.pyplot as plt\n",
    "import tensorflow as tf\n",
    "from time import time"
   ]
  },
  {
   "cell_type": "code",
   "execution_count": 139,
   "metadata": {},
   "outputs": [],
   "source": [
    "df_stocks = pd.read_excel('/Users/selim/Desktop/MA1/ML/Local tests/Stock Prediction/stocks_all_78.xlsx')"
   ]
  },
  {
   "cell_type": "markdown",
   "metadata": {},
   "source": [
    "Remark: Change file paths according to your own directories in order to assure smooth code execution "
   ]
  },
  {
   "cell_type": "markdown",
   "metadata": {},
   "source": [
    "# Preparing the dataframe"
   ]
  },
  {
   "cell_type": "markdown",
   "metadata": {},
   "source": [
    "### Stocks dataframe"
   ]
  },
  {
   "cell_type": "code",
   "execution_count": 140,
   "metadata": {},
   "outputs": [],
   "source": [
    "# Choosing the company to predict\n",
    "COMPANY = 'Google'"
   ]
  },
  {
   "cell_type": "code",
   "execution_count": 142,
   "metadata": {},
   "outputs": [],
   "source": [
    "# Keeping only Closing price and Volume, keeping stocks starting from 2011\n",
    "df_stocks = df_stocks[df_stocks['Date'] > datetime(2010, 12, 31)].drop(columns=['High','Low', 'Open', 'Adj Close']).sort_values(by='Date', ascending=True)"
   ]
  },
  {
   "cell_type": "code",
   "execution_count": 143,
   "metadata": {},
   "outputs": [],
   "source": [
    "# Isolating the company to predict\n",
    "df_stocks_company = df_stocks[df_stocks['company_name'] == COMPANY].set_index('Date')\n",
    "df_stocks_company = df_stocks_company.drop(columns=['company_name'])"
   ]
  },
  {
   "cell_type": "markdown",
   "metadata": {},
   "source": [
    "# Predicting stocks with news"
   ]
  },
  {
   "cell_type": "markdown",
   "metadata": {},
   "source": [
    "### Preparing training and test sets"
   ]
  },
  {
   "cell_type": "code",
   "execution_count": 145,
   "metadata": {},
   "outputs": [],
   "source": [
    "from sklearn.preprocessing import MinMaxScaler\n",
    "sc = MinMaxScaler()"
   ]
  },
  {
   "cell_type": "code",
   "execution_count": 146,
   "metadata": {},
   "outputs": [],
   "source": [
    "# Mapping the stocks to the [0,1] interval\n",
    "data = sc.fit_transform(df_stocks_company)"
   ]
  },
  {
   "cell_type": "code",
   "execution_count": 147,
   "metadata": {},
   "outputs": [],
   "source": [
    "# Using 95% of data for training, 2.5% for validation and 2.5% for testing\n",
    "train_ind = int(0.95*len(df_stocks_company))\n",
    "val_ind = train_ind + int(0.025*len(df_stocks_company))\n",
    "train = data[:train_ind]\n",
    "val = data[train_ind:val_ind]\n",
    "test = data[val_ind:]"
   ]
  },
  {
   "cell_type": "code",
   "execution_count": 148,
   "metadata": {},
   "outputs": [
    {
     "data": {
      "text/plain": [
       "((2391, 2), (2391,))"
      ]
     },
     "execution_count": 148,
     "metadata": {},
     "output_type": "execute_result"
    }
   ],
   "source": [
    "xtrain,ytrain,xval,yval,xtest,ytest = train[:,:],train[:,0],val[:,:],val[:,0],test[:,:],test[:,0]\n",
    "xtrain.shape, ytrain.shape, "
   ]
  },
  {
   "cell_type": "code",
   "execution_count": 149,
   "metadata": {},
   "outputs": [],
   "source": [
    "# Set the lookback to 20 days and specifying the number of feature (Close and Volume)\n",
    "lookback = 20\n",
    "n_features = 2\n",
    "train_len = len(xtrain) - lookback\n",
    "test_len = len(xtest) - lookback\n",
    "val_len = len(xval) - lookback"
   ]
  },
  {
   "cell_type": "code",
   "execution_count": 150,
   "metadata": {},
   "outputs": [
    {
     "name": "stdout",
     "output_type": "stream",
     "text": [
      "x_train (2371, 20, 2)\n",
      "y_train (2371,)\n"
     ]
    }
   ],
   "source": [
    "# Building the training set\n",
    "x_train = np.zeros((train_len, lookback, n_features))\n",
    "y_train = np.zeros((train_len))\n",
    "for i in range(train_len):\n",
    "    ytemp = i+lookback\n",
    "    x_train[i] = xtrain[i:ytemp]\n",
    "    y_train[i] = ytrain[ytemp]\n",
    "print(\"x_train\", x_train.shape)\n",
    "print(\"y_train\", y_train.shape)"
   ]
  },
  {
   "cell_type": "code",
   "execution_count": 151,
   "metadata": {},
   "outputs": [
    {
     "name": "stdout",
     "output_type": "stream",
     "text": [
      "x_val (42, 20, 2)\n",
      "y_val (42,)\n"
     ]
    }
   ],
   "source": [
    "# Building the validation set\n",
    "x_val = np.zeros((val_len, lookback, n_features))\n",
    "y_val = np.zeros((val_len))\n",
    "for i in range(val_len):\n",
    "    ytemp = i+lookback\n",
    "    x_val[i] = xval[i:ytemp]\n",
    "    y_val[i] = yval[ytemp]\n",
    "print(\"x_val\", x_val.shape)\n",
    "print(\"y_val\", y_val.shape)"
   ]
  },
  {
   "cell_type": "code",
   "execution_count": 152,
   "metadata": {},
   "outputs": [
    {
     "name": "stdout",
     "output_type": "stream",
     "text": [
      "x_test (44, 20, 2)\n",
      "y_test (44,)\n"
     ]
    }
   ],
   "source": [
    "# Building the test set\n",
    "x_test = np.zeros((test_len, lookback, n_features))\n",
    "y_test = np.zeros((test_len))\n",
    "for i in range(test_len):\n",
    "    ytemp = i+lookback\n",
    "    x_test[i] = xtest[i:ytemp]\n",
    "    y_test[i] = ytest[ytemp]\n",
    "print(\"x_test\", x_test.shape)\n",
    "print(\"y_test\", y_test.shape)"
   ]
  },
  {
   "cell_type": "markdown",
   "metadata": {},
   "source": [
    "### Training the model"
   ]
  },
  {
   "cell_type": "code",
   "execution_count": 153,
   "metadata": {},
   "outputs": [],
   "source": [
    "from keras.models import Sequential, load_model\n",
    "from keras.layers.core import Dense, Activation, Dropout, Flatten\n",
    "from keras.layers import LSTM\n",
    "from keras.optimizers import Adam\n",
    "from time import time\n",
    "from keras.callbacks import EarlyStopping"
   ]
  },
  {
   "cell_type": "code",
   "execution_count": 154,
   "metadata": {},
   "outputs": [],
   "source": [
    "# Building a model with 2 LTSM layers and 1 dense layer\n",
    "model = Sequential() \n",
    "model.add(LSTM(110,input_shape = (lookback, n_features), return_sequences=True))\n",
    "model.add(LSTM(110))\n",
    "model.add(Dense(1))"
   ]
  },
  {
   "cell_type": "code",
   "execution_count": 155,
   "metadata": {},
   "outputs": [],
   "source": [
    "# Using mse as loss function and adam as optimizer and earlystop to avoid overfitting on the validation set\n",
    "model.compile(loss = 'mse', optimizer = 'adam')\n",
    "earlystop = EarlyStopping(monitor='val_loss', min_delta=0.0001, patience=80,  verbose=1, mode='min')"
   ]
  },
  {
   "cell_type": "code",
   "execution_count": null,
   "metadata": {},
   "outputs": [],
   "source": [
    "# Training the model\n",
    "start = time()\n",
    "print(\"start:\",0)\n",
    "model.fit(x_train,y_train, epochs = 2, batch_size=40, \n",
    "          validation_data=(x_val,y_val),verbose = 1, \n",
    "          shuffle = False, callbacks=[earlystop])\n",
    "print(\"end:\",time()-start)"
   ]
  },
  {
   "cell_type": "code",
   "execution_count": 165,
   "metadata": {},
   "outputs": [],
   "source": [
    "y_pred = model.predict(x_test)"
   ]
  },
  {
   "cell_type": "code",
   "execution_count": 166,
   "metadata": {},
   "outputs": [
    {
     "data": {
      "text/plain": [
       "[<matplotlib.lines.Line2D at 0x7f8122c28f50>]"
      ]
     },
     "execution_count": 166,
     "metadata": {},
     "output_type": "execute_result"
    },
    {
     "data": {
      "image/png": "[encoded data removed]",
      "text/plain": [
       "<Figure size 1440x720 with 1 Axes>"
      ]
     },
     "metadata": {
      "needs_background": "light"
     },
     "output_type": "display_data"
    }
   ],
   "source": [
    "# Plotting the prediction against the true stock values\n",
    "plt.figure(figsize=(20,10))\n",
    "plt.plot( y_test, '.-', color='red', label='Real values', alpha=0.5)\n",
    "plt.plot( y_pred, '.-', color='blue', label='Predicted values', alpha=1)"
   ]
  },
  {
   "cell_type": "markdown",
   "metadata": {},
   "source": [
    "### Inverse transform"
   ]
  },
  {
   "cell_type": "code",
   "execution_count": 168,
   "metadata": {},
   "outputs": [],
   "source": [
    "# Tranforming the prediction back to the original stock values\n",
    "data[-len(y_pred):, 0] = y_pred[:, 0]\n",
    "predictions = sc.inverse_transform(data)"
   ]
  },
  {
   "cell_type": "code",
   "execution_count": 169,
   "metadata": {},
   "outputs": [],
   "source": [
    "y_stock_pred = predictions[-len(y_pred):, 0]\n",
    "y_stock_true = df_stocks_company['Close'].values[-len(y_pred):]"
   ]
  },
  {
   "cell_type": "markdown",
   "metadata": {},
   "source": [
    "### Computing MAPE"
   ]
  },
  {
   "cell_type": "code",
   "execution_count": 170,
   "metadata": {},
   "outputs": [],
   "source": [
    "# We compute the accuracy using the MAPE rule\n",
    "def mape(prediction, test):\n",
    "    return np.mean(np.abs((test - prediction) / test)) * 100"
   ]
  },
  {
   "cell_type": "code",
   "execution_count": 171,
   "metadata": {},
   "outputs": [
    {
     "name": "stdout",
     "output_type": "stream",
     "text": [
      "MAPE = 3.104832780590719 %\n"
     ]
    }
   ],
   "source": [
    "print('MAPE =', mape(y_stock_pred, y_stock_true), '%')"
   ]
  }
 ],
 "metadata": {
  "interpreter": {
   "hash": "8a4d93c6af53accafcbe363445a8d4b9073871d3a7503fc566dc9e8ca870f026"
  },
  "kernelspec": {
   "display_name": "Python 3.9.7 64-bit ('base': conda)",
   "language": "python",
   "name": "python3"
  },
  "language_info": {
   "codemirror_mode": {
    "name": "ipython",
    "version": 3
   },
   "file_extension": ".py",
   "mimetype": "text/x-python",
   "name": "python",
   "nbconvert_exporter": "python",
   "pygments_lexer": "ipython3",
   "version": "3.7.11"
  },
  "orig_nbformat": 4
 },
 "nbformat": 4,
 "nbformat_minor": 2
}
