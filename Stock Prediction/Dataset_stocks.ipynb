{
 "cells": [
  {
   "cell_type": "markdown",
   "id": "4838dc79",
   "metadata": {},
   "source": [
    "# Stocks Dataset Download per sector"
   ]
  },
  {
   "cell_type": "markdown",
   "id": "49a460be",
   "metadata": {},
   "source": [
    "In this notebook, we will show how to download the required stocks from yahoo finance that will be helpful for our stock prediction project"
   ]
  },
  {
   "cell_type": "code",
   "execution_count": 1,
   "id": "4f9df08c",
   "metadata": {},
   "outputs": [],
   "source": [
    "import pandas as pd\n",
    "import numpy as np\n",
    "\n",
    "import matplotlib.pyplot as plt\n",
    "import seaborn as sns\n",
    "sns.set_style('whitegrid')\n",
    "plt.style.use(\"fivethirtyeight\")\n",
    "%matplotlib inline\n",
    "\n",
    "# For reading stock data from yahoo\n",
    "from pandas_datareader.data import DataReader\n",
    "\n",
    "# For time stamps\n",
    "from datetime import datetime"
   ]
  },
  {
   "cell_type": "code",
   "execution_count": 2,
   "id": "bb1854a1",
   "metadata": {},
   "outputs": [],
   "source": [
    "# companies contains all the companies we are dealing with in the tech\n",
    "data_tech = pd.read_excel(r'Dataset_Needed\\tech.xlsx')\n",
    "df_tech = pd.DataFrame(data_tech, columns= ['company'])\n",
    "companies_tech = df_tech.to_numpy().flatten()\n",
    "companies_tech = list(dict.fromkeys(companies_tech))\n",
    "\n",
    "# companies contains all the companies we are dealing with in the automobile\n",
    "data_automobile = pd.read_excel(r'Dataset_Needed\\automobile.xlsx')\n",
    "df_automobile = pd.DataFrame(data_automobile, columns= ['company'])\n",
    "companies_automobile = df_automobile.to_numpy().flatten()\n",
    "companies_automobile = list(dict.fromkeys(companies_automobile))\n",
    "\n",
    "# companies contains all the companies we are dealing with in the fashion\n",
    "data_fashion = pd.read_excel(r'Dataset_Needed\\fashion.xlsx')\n",
    "df_fashion = pd.DataFrame(data_fashion, columns= ['company'])\n",
    "companies_fashion = df_fashion.to_numpy().flatten()\n",
    "companies_fashion = list(dict.fromkeys(companies_fashion))\n",
    "\n",
    "# companies contains all the companies we are dealing with in the finance\n",
    "data_finance = pd.read_excel(r'Dataset_Needed\\finance.xlsx')\n",
    "df_finance = pd.DataFrame(data_finance, columns= ['company'])\n",
    "companies_finance = df_finance.to_numpy().flatten()\n",
    "companies_finance = list(dict.fromkeys(companies_finance))\n",
    "companies_finance.remove(\"Goldman Sa\")"
   ]
  },
  {
   "cell_type": "code",
   "execution_count": 3,
   "id": "632fe8fc",
   "metadata": {},
   "outputs": [
    {
     "name": "stdout",
     "output_type": "stream",
     "text": [
      "['Adobe', 'AMD', 'Alibaba', 'Amazon', 'Apple', 'Cisco', 'Facebook', 'HP', 'IBM', 'Intel', 'Microsoft', 'Netflix', 'NVIDIA', 'Salesforce', 'SAP', 'Spotify', 'Tencent', 'Twitter', 'Samsung', 'Qualcomm', 'Broadcom', 'Texas', 'Google', 'Oracle', 'Sony', 'TSMC']\n",
      "['Audi', 'BMW', 'Daimler', 'Ford', 'GM', 'Honda', 'Hyundai', 'Nissan', 'Renault', 'Tesla', 'Toyota', 'Volkswagen', 'Kia', 'Stellantis', 'Geely', 'Harley Da']\n",
      "['Nike', 'Adidas', 'Lululemon', 'Under Armour', 'H&M', 'LVMH', 'Inditex', 'TJX Cos', 'L Brands', 'Anta Sports', 'VF Corp', 'Kering', 'Richemont', 'Fast Retailing', 'Burberry']\n",
      "['Allianz', 'Amex', 'AIG', 'AXA', 'Bank of America', 'Capital One', 'Credit Suisse', 'Discover Financials', 'ING', 'Mastercard', 'UBS', 'Visa', 'Wells Fargo', 'JP Morgan', 'Goldman Sachs', 'DBS', 'Square', 'Paypal', 'Citi Group', 'HSBC', 'Ping An']\n"
     ]
    }
   ],
   "source": [
    "print(companies_tech)\n",
    "print(companies_automobile)\n",
    "print(companies_fashion)\n",
    "print(companies_finance)"
   ]
  },
  {
   "cell_type": "code",
   "execution_count": 4,
   "id": "3ca3b610",
   "metadata": {},
   "outputs": [],
   "source": [
    "#Weird stuff in database : We have Goldman Sachs and Goldman Sa\n",
    "duplicates_dictionary =  {\"HP\" : \"HPQ\",\n",
    "                         \"Intel\" : \"INTC\",\n",
    "                         \"Broadcom\" : \"AVGO\",\n",
    "                         \"Texas\" : \"TXN\",\n",
    "                         \"Ford\" : \"F\",\n",
    "                         \"GM\" : \"GM\",\n",
    "                          \"Audi\": \"AUDVF\",\n",
    "                          \"Under Armour\" : \"UAA\",\n",
    "                          \"Allianz\" : \"ALV\",\n",
    "                          \"Bank of America\" : \"BAC\",\n",
    "                          \"Capital One\" : \"COF\" , \n",
    "                          \"Credit Suisse\" : \"CS\" ,\n",
    "                          \"ING\" : \"ING\" , \n",
    "                          \"Wells Fargo\" : \"WFC\" , \n",
    "                          \"Goldman Sachs\" : \"GS\" , \n",
    "                          \"Square\" : \"SQ\"\n",
    "                         }"
   ]
  },
  {
   "cell_type": "code",
   "execution_count": 5,
   "id": "09261e78",
   "metadata": {
    "scrolled": true
   },
   "outputs": [],
   "source": [
    "data = pd.read_excel(r'Dataset_Needed\\Ticker-finder-Excel.xlsx')\n",
    "\n",
    "df_Symbol = pd.DataFrame(data, columns= ['Symbol'])\n",
    "symbols = df_Symbol.to_numpy().flatten()\n",
    "\n",
    "df_Name = pd.DataFrame(data, columns= [\"Name\"])\n",
    "names = df_Name.to_numpy().flatten()\n",
    "# Now, we try to get the symbols for different company names\n",
    "# BE CAREFUL\n",
    "# There might be multiple symbols, in that case we have a special list for duplicates\n",
    "# There might be no symbols, in that case they are added to the database\n",
    "def giveSymbolsPerSector(companies):\n",
    "    tickers = []\n",
    "    for companyName in companies:\n",
    "        ticker = \"\"\n",
    "        nb = 0\n",
    "        for i in range(len(names)):\n",
    "            if companyName in names[i]:\n",
    "                ticker = symbols[i]\n",
    "                nb = nb + 1\n",
    "        if nb == 0:\n",
    "            ticker = \"NOTFOUND_\"+companyName\n",
    "        if nb > 1:\n",
    "            ticker = duplicates_dictionary[companyName]\n",
    "        tickers.append(ticker)\n",
    "    return tickers\n",
    "\n",
    "tech_symbols = giveSymbolsPerSector(companies_tech)\n",
    "automobile_symbols = giveSymbolsPerSector(companies_automobile)\n",
    "fashion_symbols = giveSymbolsPerSector(companies_fashion)\n",
    "finance_symbols = giveSymbolsPerSector(companies_finance)"
   ]
  },
  {
   "cell_type": "code",
   "execution_count": 6,
   "id": "95f6ee82",
   "metadata": {
    "scrolled": false
   },
   "outputs": [
    {
     "name": "stdout",
     "output_type": "stream",
     "text": [
      "ADBE\n",
      "AMD\n",
      "BABA\n",
      "AMZN\n",
      "AAPL\n",
      "CSCO\n",
      "FB\n",
      "HPQ\n",
      "IBM\n",
      "INTC\n",
      "MSFT\n",
      "NFLX\n",
      "NVDA\n",
      "CRM\n",
      "SAP\n",
      "SPOT\n",
      "TME\n",
      "TWTR\n",
      "SSUN.F\n",
      "QCOM\n",
      "AVGO\n",
      "TXN\n",
      "GOOG\n",
      "ORCL\n",
      "SONY\n",
      "TSM\n",
      "AUDVF\n",
      "BMW.DE\n",
      "DAI.DE\n",
      "F\n",
      "GM\n",
      "HMC\n",
      "HYMTF\n",
      "NSANY\n",
      "RNO.PA\n",
      "TSLA\n",
      "TM\n",
      "VOW3.DE\n",
      "000270.KS\n",
      "STLA\n",
      "GELYF\n",
      "HOG\n",
      "NKE\n",
      "ADS\n",
      "LULU\n",
      "UAA\n",
      "HM-B.ST\n",
      "MC\n",
      "ITX.MC\n",
      "TJX\n",
      "BBWI\n",
      "ANPDY\n",
      "VFC\n",
      "KER.PA\n",
      "CFR\n",
      "FRCOY\n",
      "BRBY.L\n",
      "ALV\n",
      "AXP\n",
      "AIG\n",
      "CS.PA\n",
      "BAC\n",
      "COF\n",
      "CS\n",
      "DFS\n",
      "ING\n",
      "MA\n",
      "UBS\n",
      "V\n",
      "WFC\n",
      "JPM\n",
      "GS\n",
      "D05.SI\n",
      "SQ\n",
      "PYPL\n",
      "C\n",
      "HSBC\n",
      "2318.HK\n"
     ]
    }
   ],
   "source": [
    "# Set up End and Start times for data grab\n",
    "end = datetime.now()\n",
    "start = datetime(end.year - 10 , end.month , end.day)\n",
    "\n",
    "\n",
    "#For loop for grabing yahoo finance data and setting as a dataframe\n",
    "for stock in tech_symbols:\n",
    "    # Set DataFrame as the Stock Ticker\n",
    "    print(stock)\n",
    "    globals()[stock] = DataReader(stock, 'yahoo', start, end)\n",
    "for stock in automobile_symbols:\n",
    "    # Set DataFrame as the Stock Ticker\n",
    "    print(stock)\n",
    "    globals()[stock] = DataReader(stock, 'yahoo', start, end)\n",
    "for stock in fashion_symbols:\n",
    "    # Set DataFrame as the Stock Ticker\n",
    "    print(stock)\n",
    "    globals()[stock] = DataReader(stock, 'yahoo', start, end)\n",
    "for stock in finance_symbols:\n",
    "    # Set DataFrame as the Stock Ticker\n",
    "    print(stock)\n",
    "    globals()[stock] = DataReader(stock, 'yahoo', start, end)"
   ]
  },
  {
   "cell_type": "code",
   "execution_count": 7,
   "id": "6ea18846",
   "metadata": {
    "scrolled": true
   },
   "outputs": [],
   "source": [
    "tech_symbols_variables = []\n",
    "for tech_symbol in tech_symbols:\n",
    "    tech_symbols_variables.append(locals()[tech_symbol])\n",
    "automobile_symbols_variables = []\n",
    "for automobile_symbol in automobile_symbols:\n",
    "    automobile_symbols_variables.append(locals()[automobile_symbol])\n",
    "fashion_symbols_variables = []\n",
    "for fashion_symbol in fashion_symbols:\n",
    "    fashion_symbols_variables.append(locals()[fashion_symbol])\n",
    "finance_symbols_variables = []\n",
    "for finance_symbol in finance_symbols:\n",
    "    finance_symbols_variables.append(locals()[finance_symbol])"
   ]
  },
  {
   "cell_type": "markdown",
   "id": "76b42ae7",
   "metadata": {},
   "source": [
    "# 6. Predicting the closing price stock price:"
   ]
  },
  {
   "cell_type": "code",
   "execution_count": 12,
   "id": "7b8cfa2f",
   "metadata": {},
   "outputs": [],
   "source": [
    "#Get the scores \n",
    "data_score = pd.read_excel(r'Dataset_Needed\\scores.xlsx')\n",
    "df_score = pd.DataFrame(data_score, columns= ['Score'])\n",
    "df_score_company = pd.DataFrame(data_score, columns= ['Company'])\n",
    "companies_score = df_score.to_numpy().flatten()\n",
    "companies_score_name = df_score_company.to_numpy().flatten()"
   ]
  },
  {
   "cell_type": "code",
   "execution_count": 13,
   "id": "3ed2b630",
   "metadata": {},
   "outputs": [],
   "source": [
    "def getCompanyScore(company_name):\n",
    "    for i in range(len(companies_score_name)):\n",
    "        ind = 0\n",
    "        if company_name in companies_score_name[i]:\n",
    "            ind = i\n",
    "            break\n",
    "    return companies_score[ind]"
   ]
  },
  {
   "cell_type": "code",
   "execution_count": 14,
   "id": "32658ec7",
   "metadata": {
    "scrolled": true
   },
   "outputs": [
    {
     "data": {
      "text/plain": [
       "53.74040632054177"
      ]
     },
     "execution_count": 14,
     "metadata": {},
     "output_type": "execute_result"
    }
   ],
   "source": [
    "getCompanyScore(\"Adobe\")"
   ]
  },
  {
   "cell_type": "code",
   "execution_count": 15,
   "id": "910cc594",
   "metadata": {},
   "outputs": [],
   "source": [
    "def getScoreColumn(score, size):\n",
    "    return np.array([score] * size)"
   ]
  },
  {
   "cell_type": "code",
   "execution_count": 16,
   "id": "7b1dac88",
   "metadata": {},
   "outputs": [],
   "source": [
    "# Get the stock quote\n",
    "df = ADBE\n",
    "# Get the company's score\n",
    "score = getCompanyScore(\"Adobe\")"
   ]
  },
  {
   "cell_type": "code",
   "execution_count": 17,
   "id": "cf1c1708",
   "metadata": {},
   "outputs": [
    {
     "data": {
      "image/png": "[encoded data removed]",
      "text/plain": [
       "<Figure size 1152x432 with 1 Axes>"
      ]
     },
     "metadata": {
      "needs_background": "light"
     },
     "output_type": "display_data"
    }
   ],
   "source": [
    "plt.figure(figsize=(16,6))\n",
    "plt.title('Close Price History')\n",
    "plt.plot(df['Close'])\n",
    "plt.xlabel('Date', fontsize=18)\n",
    "plt.ylabel('Close Price USD ($)', fontsize=18)\n",
    "plt.show()"
   ]
  },
  {
   "cell_type": "code",
   "execution_count": 18,
   "id": "95f68b6e",
   "metadata": {},
   "outputs": [],
   "source": [
    "# Create a new dataframe with only the 'Close column \n",
    "data = df.filter(['Close'])\n",
    "# Convert the dataframe to a numpy array\n",
    "dataset = data.values\n",
    "# Get the number of rows to train the model on\n",
    "training_data_len = int(np.ceil( len(dataset) * .95 ))"
   ]
  },
  {
   "cell_type": "code",
   "execution_count": 19,
   "id": "9525660d",
   "metadata": {},
   "outputs": [],
   "source": [
    "# Scale the data\n",
    "from sklearn.preprocessing import MinMaxScaler\n",
    "\n",
    "scaler = MinMaxScaler(feature_range=(0,1))\n",
    "scaled_data = scaler.fit_transform(dataset)"
   ]
  },
  {
   "cell_type": "code",
   "execution_count": 53,
   "id": "2be1d191",
   "metadata": {},
   "outputs": [],
   "source": [
    "# Create the training data set \n",
    "# Create the scaled training data set\n",
    "train_data = scaled_data[0:int(training_data_len), :]\n",
    "# Split the data into x_train and y_train data sets\n",
    "x_train = []\n",
    "y_train = []\n",
    "\n",
    "for i in range(60, len(train_data)):\n",
    "    x_train.append(train_data[i-60:i, 0])\n",
    "    y_train.append(train_data[i, 0])\n",
    "        \n",
    "# Convert the x_train and y_train to numpy arrays \n",
    "x_train, y_train = np.array(x_train), np.array(y_train)\n",
    "\n",
    "### ADDING SCORE INDEX\n",
    "#x_train = np.c_[ x_train, getScoreColumn(score, training_data_len - 60) ]\n",
    "### FINISHED ADDING SCORE INDEX\n",
    "\n",
    "# Reshape the data\n",
    "x_train = np.reshape(x_train, (x_train.shape[0], x_train.shape[1], 1))"
   ]
  },
  {
   "cell_type": "code",
   "execution_count": 54,
   "id": "b8535edf",
   "metadata": {},
   "outputs": [
    {
     "name": "stdout",
     "output_type": "stream",
     "text": [
      "2332/2332 [==============================] - 24s 10ms/step - loss: 6.3127e-04\n"
     ]
    },
    {
     "data": {
      "text/plain": [
       "<keras.callbacks.History at 0x15c2f6c7af0>"
      ]
     },
     "execution_count": 54,
     "metadata": {},
     "output_type": "execute_result"
    }
   ],
   "source": [
    "from keras.models import Sequential\n",
    "from keras.layers import Dense, LSTM\n",
    "\n",
    "# Build the LSTM model\n",
    "model = Sequential()\n",
    "model.add(LSTM(128, return_sequences=True, input_shape= (x_train.shape[1], 1)))\n",
    "model.add(LSTM(64, return_sequences=False))\n",
    "model.add(Dense(25))\n",
    "model.add(Dense(1))\n",
    "\n",
    "# Compile the model\n",
    "model.compile(optimizer='adam', loss='mean_squared_error')\n",
    "\n",
    "# Train the model\n",
    "model.fit(x_train, y_train, batch_size=1, epochs=1)"
   ]
  },
  {
   "cell_type": "code",
   "execution_count": 55,
   "id": "fb2be36f",
   "metadata": {},
   "outputs": [
    {
     "name": "stdout",
     "output_type": "stream",
     "text": [
      "1.810084432646021 %\n"
     ]
    }
   ],
   "source": [
    "# Create the testing data set\n",
    "# Create a new array containing scaled values from index 1543 to 2002 \n",
    "test_data = scaled_data[training_data_len - 60: , :]\n",
    "# Create the data sets x_test and y_test\n",
    "x_test = []\n",
    "y_test = dataset[int(training_data_len):, :]\n",
    "for i in range(60, len(test_data)):\n",
    "    x_test.append(test_data[i-60:i, 0])\n",
    "    \n",
    "# Convert the data to a numpy array\n",
    "x_test = np.array(x_test)\n",
    "\n",
    "### ADDING SCORE INDEX\n",
    "#x_test = np.c_[ x_test, getScoreColumn(score, len(dataset) - training_data_len) ]\n",
    "### FINISHED ADDING SCORE INDEX\n",
    "\n",
    "# Reshape the data\n",
    "x_test = np.reshape(x_test, (x_test.shape[0], x_test.shape[1], 1 ))\n",
    "\n",
    "# Get the models predicted price values \n",
    "predictions = model.predict(x_test)\n",
    "predictions = scaler.inverse_transform(predictions)\n",
    "\n",
    "# Get the MAPE \n",
    "mape = np.mean(np.abs((y_test - predictions) / y_test)) * 100\n",
    "print(mape, \"%\")"
   ]
  },
  {
   "cell_type": "code",
   "execution_count": 56,
   "id": "705b8465",
   "metadata": {},
   "outputs": [
    {
     "name": "stderr",
     "output_type": "stream",
     "text": [
      "<ipython-input-56-0cdd5e68a3a9>:4: SettingWithCopyWarning: \n",
      "A value is trying to be set on a copy of a slice from a DataFrame.\n",
      "Try using .loc[row_indexer,col_indexer] = value instead\n",
      "\n",
      "See the caveats in the documentation: https://pandas.pydata.org/pandas-docs/stable/user_guide/indexing.html#returning-a-view-versus-a-copy\n",
      "  valid['Predictions'] = predictions\n"
     ]
    },
    {
     "data": {
      "image/png": "[encoded data removed]",
      "text/plain": [
       "<Figure size 1152x432 with 1 Axes>"
      ]
     },
     "metadata": {
      "needs_background": "light"
     },
     "output_type": "display_data"
    }
   ],
   "source": [
    "# Plot the data\n",
    "train = data[:training_data_len]\n",
    "valid = data[training_data_len:]\n",
    "valid['Predictions'] = predictions\n",
    "# Visualize the data\n",
    "plt.figure(figsize=(16,6))\n",
    "plt.title('Model')\n",
    "plt.xlabel('Date', fontsize=18)\n",
    "plt.ylabel('Close Price USD ($)', fontsize=18)\n",
    "plt.plot(train['Close'])\n",
    "plt.plot(valid[['Close', 'Predictions']])\n",
    "plt.legend(['Train', 'Val', 'Predictions'], loc='lower right')\n",
    "plt.show()"
   ]
  },
  {
   "cell_type": "code",
   "execution_count": 57,
   "id": "9cb4c063",
   "metadata": {
    "scrolled": true
   },
   "outputs": [
    {
     "data": {
      "text/html": [
       "<div>\n",
       "<style scoped>\n",
       "    .dataframe tbody tr th:only-of-type {\n",
       "        vertical-align: middle;\n",
       "    }\n",
       "\n",
       "    .dataframe tbody tr th {\n",
       "        vertical-align: top;\n",
       "    }\n",
       "\n",
       "    .dataframe thead th {\n",
       "        text-align: right;\n",
       "    }\n",
       "</style>\n",
       "<table border=\"1\" class=\"dataframe\">\n",
       "  <thead>\n",
       "    <tr style=\"text-align: right;\">\n",
       "      <th></th>\n",
       "      <th>Close</th>\n",
       "      <th>Predictions</th>\n",
       "    </tr>\n",
       "    <tr>\n",
       "      <th>Date</th>\n",
       "      <th></th>\n",
       "      <th></th>\n",
       "    </tr>\n",
       "  </thead>\n",
       "  <tbody>\n",
       "    <tr>\n",
       "      <th>2021-06-08</th>\n",
       "      <td>509.200012</td>\n",
       "      <td>510.201050</td>\n",
       "    </tr>\n",
       "    <tr>\n",
       "      <th>2021-06-09</th>\n",
       "      <td>514.679993</td>\n",
       "      <td>512.081360</td>\n",
       "    </tr>\n",
       "    <tr>\n",
       "      <th>2021-06-10</th>\n",
       "      <td>535.520020</td>\n",
       "      <td>514.586853</td>\n",
       "    </tr>\n",
       "    <tr>\n",
       "      <th>2021-06-11</th>\n",
       "      <td>541.260010</td>\n",
       "      <td>519.899780</td>\n",
       "    </tr>\n",
       "    <tr>\n",
       "      <th>2021-06-14</th>\n",
       "      <td>556.950012</td>\n",
       "      <td>526.310120</td>\n",
       "    </tr>\n",
       "    <tr>\n",
       "      <th>...</th>\n",
       "      <td>...</td>\n",
       "      <td>...</td>\n",
       "    </tr>\n",
       "    <tr>\n",
       "      <th>2021-11-26</th>\n",
       "      <td>662.099976</td>\n",
       "      <td>668.295227</td>\n",
       "    </tr>\n",
       "    <tr>\n",
       "      <th>2021-11-29</th>\n",
       "      <td>687.489990</td>\n",
       "      <td>666.874329</td>\n",
       "    </tr>\n",
       "    <tr>\n",
       "      <th>2021-11-30</th>\n",
       "      <td>669.849976</td>\n",
       "      <td>668.916687</td>\n",
       "    </tr>\n",
       "    <tr>\n",
       "      <th>2021-12-01</th>\n",
       "      <td>657.409973</td>\n",
       "      <td>669.299316</td>\n",
       "    </tr>\n",
       "    <tr>\n",
       "      <th>2021-12-02</th>\n",
       "      <td>668.299988</td>\n",
       "      <td>667.420959</td>\n",
       "    </tr>\n",
       "  </tbody>\n",
       "</table>\n",
       "<p>125 rows × 2 columns</p>\n",
       "</div>"
      ],
      "text/plain": [
       "                 Close  Predictions\n",
       "Date                               \n",
       "2021-06-08  509.200012   510.201050\n",
       "2021-06-09  514.679993   512.081360\n",
       "2021-06-10  535.520020   514.586853\n",
       "2021-06-11  541.260010   519.899780\n",
       "2021-06-14  556.950012   526.310120\n",
       "...                ...          ...\n",
       "2021-11-26  662.099976   668.295227\n",
       "2021-11-29  687.489990   666.874329\n",
       "2021-11-30  669.849976   668.916687\n",
       "2021-12-01  657.409973   669.299316\n",
       "2021-12-02  668.299988   667.420959\n",
       "\n",
       "[125 rows x 2 columns]"
      ]
     },
     "execution_count": 57,
     "metadata": {},
     "output_type": "execute_result"
    }
   ],
   "source": [
    "valid"
   ]
  },
  {
   "cell_type": "markdown",
   "id": "fa5eb0cc",
   "metadata": {},
   "source": [
    "## Finding the worst MAPE of our dataset"
   ]
  },
  {
   "cell_type": "code",
   "execution_count": 178,
   "id": "5e949956",
   "metadata": {},
   "outputs": [
    {
     "name": "stdout",
     "output_type": "stream",
     "text": [
      "2332/2332 [==============================] - 36s 15ms/step - loss: 6.7477e-04\n",
      "5.333091980613269 %\n",
      "2332/2332 [==============================] - 38s 15ms/step - loss: 6.9219e-04\n",
      "11.515590702045733 %\n",
      "1663/1663 [==============================] - 26s 15ms/step - loss: 0.0020\n",
      "5.6889394376280595 %\n",
      "2332/2332 [==============================] - 37s 15ms/step - loss: 0.0011\n",
      "8.042856082993685 %\n",
      "2332/2332 [==============================] - 38s 16ms/step - loss: 0.0011\n",
      "2.1052899561322103 %\n",
      "2332/2332 [==============================] - 39s 16ms/step - loss: 0.0016\n",
      "1.1211573461931368 %\n",
      "2220/2220 [==============================] - 36s 16ms/step - loss: 9.8338e-04\n",
      "2.552035464902075 %\n",
      "2332/2332 [==============================] - 36s 15ms/step - loss: 0.0012\n",
      "2.9638516642533914 %\n",
      "2332/2332 [==============================] - 35s 15ms/step - loss: 0.0020\n",
      "1.2245653808051848 %\n",
      "2332/2332 [==============================] - 38s 16ms/step - loss: 0.0019\n",
      "1.3163033709149818 %\n",
      "2332/2332 [==============================] - 37s 15ms/step - loss: 8.6551e-04\n",
      "10.731997442129604 %\n",
      "2331/2331 [==============================] - 37s 15ms/step - loss: 0.0011\n",
      "4.36236622107522 %\n",
      "2331/2331 [==============================] - 37s 15ms/step - loss: 3.8287e-04\n",
      "8.12537308021677 %\n",
      "2331/2331 [==============================] - 39s 16ms/step - loss: 0.0014\n",
      "2.099641616250556 %\n",
      "2331/2331 [==============================] - 40s 16ms/step - loss: 0.0017\n",
      "2.823866176346982 %\n",
      "817/817 [==============================] - 14s 16ms/step - loss: 0.0043\n",
      "3.3273317940727973 %\n",
      "650/650 [==============================] - 12s 17ms/step - loss: 0.0046\n",
      "16.169206861242273 %\n",
      "1868/1868 [==============================] - 31s 16ms/step - loss: 0.0021\n",
      "3.8876804978245563 %\n",
      "2344/2344 [==============================] - 40s 16ms/step - loss: 0.0010\n",
      "6.3593357991642385 %\n",
      "2331/2331 [==============================] - 38s 16ms/step - loss: 0.0011\n",
      "1.9366037055667924 %\n",
      "2331/2331 [==============================] - 39s 16ms/step - loss: 7.9545e-04\n",
      "2.5244896908690038 %\n",
      "2331/2331 [==============================] - 40s 17ms/step - loss: 0.0010\n",
      "5.7153265557471755 %\n",
      "2331/2331 [==============================] - 41s 17ms/step - loss: 8.2556e-04\n",
      "1.2587219452412899 %\n",
      "2331/2331 [==============================] - 39s 16ms/step - loss: 8.9985e-04\n",
      "5.306802653391807 %\n",
      "2331/2331 [==============================] - 39s 16ms/step - loss: 9.8982e-04\n",
      "1.8663107352104085 %\n",
      "2331/2331 [==============================] - 38s 16ms/step - loss: 0.0013\n",
      "2.107528457611493 %\n",
      "2301/2301 [==============================] - 38s 16ms/step - loss: 0.0021\n",
      "0.9460323373067012 %\n",
      "2347/2347 [==============================] - 41s 17ms/step - loss: 0.0016\n",
      "4.722239317211486 %\n",
      "2347/2347 [==============================] - 40s 16ms/step - loss: 0.0014\n",
      "3.598374372515614 %\n",
      "2331/2331 [==============================] - 38s 16ms/step - loss: 0.0016\n",
      "2.9991976847278683 %\n",
      "2331/2331 [==============================] - 37s 15ms/step - loss: 0.0014\n",
      "5.577317326340996 %\n",
      "2331/2331 [==============================] - 38s 16ms/step - loss: 0.0019\n",
      "1.29464055358076 %\n",
      "2331/2331 [==============================] - 37s 15ms/step - loss: 0.0021\n",
      "1.4064212052639717 %\n",
      "2331/2331 [==============================] - 37s 15ms/step - loss: 0.0017\n",
      "1.9579921257238588 %\n",
      "2369/2369 [==============================] - 37s 15ms/step - loss: 0.0020\n",
      "4.891985597309098 %\n",
      "2331/2331 [==============================] - 38s 16ms/step - loss: 9.3972e-04\n",
      "8.891440156768041 %\n",
      "2331/2331 [==============================] - 36s 15ms/step - loss: 0.0011\n",
      "1.2581665360690453 %\n",
      "2347/2347 [==============================] - 37s 15ms/step - loss: 0.0025\n",
      "2.7362216316683075 %\n",
      "2274/2274 [==============================] - 36s 16ms/step - loss: 0.0017\n",
      "1.780818393188282 %\n",
      "2331/2331 [==============================] - 36s 15ms/step - loss: 0.0016\n",
      "2.3543786264047353 %\n",
      "2331/2331 [==============================] - 37s 15ms/step - loss: 0.0018\n",
      "6.387643279128638 %\n",
      "2331/2331 [==============================] - 36s 15ms/step - loss: 0.0022\n",
      "2.61493913417415 %\n",
      "2331/2331 [==============================] - 36s 15ms/step - loss: 7.1901e-04\n",
      "2.1380072828468175 %\n",
      "2331/2331 [==============================] - 36s 15ms/step - loss: 0.0018\n",
      "6.001116101127657 %\n",
      "2331/2331 [==============================] - 36s 15ms/step - loss: 0.0011\n",
      "3.5405948236239144 %\n",
      "2331/2331 [==============================] - 37s 15ms/step - loss: 0.0017\n",
      "4.692090685992847 %\n",
      "2324/2324 [==============================] - 36s 15ms/step - loss: 0.0016\n",
      "3.0629851735773403 %\n",
      "1764/1764 [==============================] - 28s 15ms/step - loss: 0.0015\n",
      "2.2502505777383064 %\n",
      "2370/2370 [==============================] - 38s 15ms/step - loss: 0.0017\n",
      "2.952658529687003 %\n",
      "2331/2331 [==============================] - 38s 16ms/step - loss: 0.0013\n",
      "1.9690930957499506 %\n",
      "2331/2331 [==============================] - 37s 15ms/step - loss: 0.0014\n",
      "6.46676557364267 %\n",
      "2069/2069 [==============================] - 34s 16ms/step - loss: 0.0012\n",
      "4.809992640061444 %\n",
      "2331/2331 [==============================] - 38s 16ms/step - loss: 0.0021\n",
      "2.8998196968262886 %\n",
      "2369/2369 [==============================] - 38s 15ms/step - loss: 0.0010\n",
      "6.5114001542980375 %\n",
      "2331/2331 [==============================] - 37s 15ms/step - loss: 0.0013\n",
      "1.5738319468444624 %\n",
      "2331/2331 [==============================] - 38s 16ms/step - loss: 0.0012\n",
      "1.768131425371557 %\n",
      "2335/2335 [==============================] - 38s 16ms/step - loss: 0.0028\n",
      "1.5596198132301615 %\n",
      "2331/2331 [==============================] - 38s 15ms/step - loss: 0.0022\n",
      "2.6557436000051 %\n",
      "2331/2331 [==============================] - 38s 16ms/step - loss: 0.0011\n",
      "2.2574214836623017 %\n",
      "2331/2331 [==============================] - 38s 16ms/step - loss: 0.0022\n",
      "2.016832523236409 %\n",
      "2369/2369 [==============================] - 39s 16ms/step - loss: 0.0022\n",
      "1.202515113877211 %\n",
      "2331/2331 [==============================] - 39s 16ms/step - loss: 0.0011\n",
      "1.8252093901095507 %\n",
      "2331/2331 [==============================] - 39s 16ms/step - loss: 9.7999e-04\n",
      "2.2653858410336123 %\n",
      "2331/2331 [==============================] - 37s 15ms/step - loss: 0.0017\n",
      "9.097633302560734 %\n",
      "2331/2331 [==============================] - 38s 16ms/step - loss: 0.0010\n",
      "3.659786609912393 %\n",
      "2331/2331 [==============================] - 39s 16ms/step - loss: 0.0017\n",
      "1.5585019176280526 %\n",
      "2331/2331 [==============================] - 39s 16ms/step - loss: 0.0017\n",
      "3.5580502275963926 %\n",
      "2331/2331 [==============================] - 37s 15ms/step - loss: 0.0019\n",
      "3.585332314750244 %\n",
      "2331/2331 [==============================] - 38s 16ms/step - loss: 0.0014\n",
      "5.707934310932686 %\n",
      "2331/2331 [==============================] - 38s 16ms/step - loss: 0.0020\n",
      "2.2083024554747253 %\n",
      "2331/2331 [==============================] - 37s 15ms/step - loss: 9.0993e-04\n",
      "6.133479706458327 %\n",
      "2331/2331 [==============================] - 38s 16ms/step - loss: 9.1304e-04\n",
      "1.7304813435011046 %\n",
      "2324/2324 [==============================] - 38s 16ms/step - loss: 0.0013\n",
      "6.127722018062789 %\n",
      "1382/1382 [==============================] - 23s 16ms/step - loss: 0.0023\n",
      "3.3696008927760146 %\n",
      "1474/1474 [==============================] - 25s 16ms/step - loss: 0.0017\n",
      "3.608483716604275 %\n",
      "2331/2331 [==============================] - 38s 16ms/step - loss: 0.0023\n",
      "4.066564511145562 %\n",
      "2331/2331 [==============================] - 38s 16ms/step - loss: 0.0022\n",
      "4.131411583613573 %\n",
      "2279/2279 [==============================] - 38s 16ms/step - loss: 0.0016\n",
      "4.293196322152841 %\n",
      "16.169206861242273 %\n"
     ]
    }
   ],
   "source": [
    "max_MAPE = 0\n",
    "ALL_symbols_variables = []\n",
    "ALL_symbols_variables.extend(tech_symbols_variables)\n",
    "ALL_symbols_variables.extend(automobile_symbols_variables)\n",
    "ALL_symbols_variables.extend(fashion_symbols_variables)\n",
    "ALL_symbols_variables.extend(finance_symbols_variables)\n",
    "\n",
    "MAPE_table = []\n",
    "for i in range(len(ALL_symbols_variables)):\n",
    "    df = ALL_symbols_variables[i]\n",
    "    # Create a new dataframe with only the 'Close column \n",
    "    data = df.filter(['Close'])\n",
    "    # Convert the dataframe to a numpy array\n",
    "    dataset = data.values\n",
    "    # Get the number of rows to train the model on\n",
    "    training_data_len = int(np.ceil( len(dataset) * .95 ))\n",
    "    scaler = MinMaxScaler(feature_range=(0,1))\n",
    "    scaled_data = scaler.fit_transform(dataset)\n",
    "   # Create the training data set \n",
    "    # Create the scaled training data set\n",
    "    train_data = scaled_data[0:int(training_data_len), :]\n",
    "    # Split the data into x_train and y_train data sets\n",
    "    x_train = []\n",
    "    y_train = []\n",
    "\n",
    "    for i in range(60, len(train_data)):\n",
    "        x_train.append(train_data[i-60:i, 0])\n",
    "        y_train.append(train_data[i, 0])\n",
    "\n",
    "    # Convert the x_train and y_train to numpy arrays \n",
    "    x_train, y_train = np.array(x_train), np.array(y_train)\n",
    "\n",
    "    # Reshape the data\n",
    "    x_train = np.reshape(x_train, (x_train.shape[0], x_train.shape[1], 1)) \n",
    "    # Build the LSTM model\n",
    "    model = Sequential()\n",
    "    model.add(LSTM(128, return_sequences=True, input_shape= (x_train.shape[1], 1)))\n",
    "    model.add(LSTM(64, return_sequences=False))\n",
    "    model.add(Dense(25))\n",
    "    model.add(Dense(1))\n",
    "\n",
    "    # Compile the model\n",
    "    model.compile(optimizer='adam', loss='mean_squared_error')\n",
    "\n",
    "    # Train the model\n",
    "    model.fit(x_train, y_train, batch_size=1, epochs=1)\n",
    "    # Create the testing data set\n",
    "    # Create a new array containing scaled values from index 1543 to 2002 \n",
    "    test_data = scaled_data[training_data_len - 60: , :]\n",
    "    # Create the data sets x_test and y_test\n",
    "    x_test = []\n",
    "    y_test = dataset[int(training_data_len):, :]\n",
    "    for i in range(60, len(test_data)):\n",
    "        x_test.append(test_data[i-60:i, 0])\n",
    "\n",
    "    # Convert the data to a numpy array\n",
    "    x_test = np.array(x_test)\n",
    "\n",
    "    # Reshape the data\n",
    "    x_test = np.reshape(x_test, (x_test.shape[0], x_test.shape[1], 1 ))\n",
    "\n",
    "    # Get the models predicted price values \n",
    "    predictions = model.predict(x_test)\n",
    "    predictions = scaler.inverse_transform(predictions)\n",
    "\n",
    "    # Get the MAPE \n",
    "    mape = np.mean(np.abs((y_test - predictions) / y_test)) * 100\n",
    "    MAPE_table.append(mape)\n",
    "    print(mape, \"%\")\n",
    "    if mape > max_MAPE:\n",
    "        max_MAPE = mape\n",
    "print(max_MAPE, \"%\")"
   ]
  },
  {
   "cell_type": "code",
   "execution_count": 179,
   "id": "224d9927",
   "metadata": {},
   "outputs": [
    {
     "name": "stdout",
     "output_type": "stream",
     "text": [
      "[5.333091980613269, 11.515590702045733, 5.6889394376280595, 8.042856082993685, 2.1052899561322103, 1.1211573461931368, 2.552035464902075, 2.9638516642533914, 1.2245653808051848, 1.3163033709149818, 10.731997442129604, 4.36236622107522, 8.12537308021677, 2.099641616250556, 2.823866176346982, 3.3273317940727973, 16.169206861242273, 3.8876804978245563, 6.3593357991642385, 1.9366037055667924, 2.5244896908690038, 5.7153265557471755, 1.2587219452412899, 5.306802653391807, 1.8663107352104085, 2.107528457611493, 0.9460323373067012, 4.722239317211486, 3.598374372515614, 2.9991976847278683, 5.577317326340996, 1.29464055358076, 1.4064212052639717, 1.9579921257238588, 4.891985597309098, 8.891440156768041, 1.2581665360690453, 2.7362216316683075, 1.780818393188282, 2.3543786264047353, 6.387643279128638, 2.61493913417415, 2.1380072828468175, 6.001116101127657, 3.5405948236239144, 4.692090685992847, 3.0629851735773403, 2.2502505777383064, 2.952658529687003, 1.9690930957499506, 6.46676557364267, 4.809992640061444, 2.8998196968262886, 6.5114001542980375, 1.5738319468444624, 1.768131425371557, 1.5596198132301615, 2.6557436000051, 2.2574214836623017, 2.016832523236409, 1.202515113877211, 1.8252093901095507, 2.2653858410336123, 9.097633302560734, 3.659786609912393, 1.5585019176280526, 3.5580502275963926, 3.585332314750244, 5.707934310932686, 2.2083024554747253, 6.133479706458327, 1.7304813435011046, 6.127722018062789, 3.3696008927760146, 3.608483716604275, 4.066564511145562, 4.131411583613573, 4.293196322152841]\n"
     ]
    }
   ],
   "source": [
    "print(MAPE_table)"
   ]
  },
  {
   "cell_type": "code",
   "execution_count": 191,
   "id": "a92f0260",
   "metadata": {},
   "outputs": [
    {
     "name": "stdout",
     "output_type": "stream",
     "text": [
      "MEAN :  3.8607694820709813  %\n"
     ]
    }
   ],
   "source": [
    "print(\"MEAN : \", np.mean(MAPE_table), \" %\")"
   ]
  },
  {
   "cell_type": "code",
   "execution_count": 192,
   "id": "672346f0",
   "metadata": {},
   "outputs": [
    {
     "name": "stdout",
     "output_type": "stream",
     "text": [
      "STD :  2.6823549891212064  %\n"
     ]
    }
   ],
   "source": [
    "print(\"STD : \", np.std(MAPE_table), \" %\")"
   ]
  },
  {
   "cell_type": "code",
   "execution_count": 193,
   "id": "e67fb468",
   "metadata": {},
   "outputs": [
    {
     "name": "stdout",
     "output_type": "stream",
     "text": [
      "MAX :  16.169206861242273  %\n"
     ]
    }
   ],
   "source": [
    "print(\"MAX : \", np.max(MAPE_table), \" %\")"
   ]
  },
  {
   "cell_type": "code",
   "execution_count": 194,
   "id": "ecddb114",
   "metadata": {},
   "outputs": [
    {
     "name": "stdout",
     "output_type": "stream",
     "text": [
      "MIN :  0.9460323373067012  %\n"
     ]
    }
   ],
   "source": [
    "print(\"MIN : \", np.min(MAPE_table), \" %\")"
   ]
  },
  {
   "cell_type": "code",
   "execution_count": 195,
   "id": "5d51fdb7",
   "metadata": {
    "scrolled": true
   },
   "outputs": [
    {
     "name": "stdout",
     "output_type": "stream",
     "text": [
      "Number of Good forecasts_between 10 and 20 % : 3\n"
     ]
    }
   ],
   "source": [
    "MAPE_table = np.array(MAPE_table)\n",
    "print(\"Number of Good forecasts_between 10 and 20 % :\" , len(MAPE_table[MAPE_table >= 10]) )"
   ]
  },
  {
   "cell_type": "code",
   "execution_count": 196,
   "id": "c586af2e",
   "metadata": {},
   "outputs": [
    {
     "name": "stdout",
     "output_type": "stream",
     "text": [
      "Number of Highly Accurate forecasts_between 0 and 10 % : 75\n"
     ]
    }
   ],
   "source": [
    "print(\"Number of Highly Accurate forecasts_between 0 and 10 % :\" , len(MAPE_table[MAPE_table < 10]) )"
   ]
  },
  {
   "cell_type": "code",
   "execution_count": 199,
   "id": "528347aa",
   "metadata": {},
   "outputs": [
    {
     "data": {
      "text/plain": [
       "(array([ 1., 19., 20., 10.,  8.,  6.,  7.,  0.,  3.,  1.,  1.,  1.,  0.,\n",
       "         0.,  0.,  0.,  1.,  0.]),\n",
       " array([ 0,  1,  2,  3,  4,  5,  6,  7,  8,  9, 10, 11, 12, 13, 14, 15, 16,\n",
       "        17, 18]),\n",
       " <BarContainer object of 18 artists>)"
      ]
     },
     "execution_count": 199,
     "metadata": {},
     "output_type": "execute_result"
    },
    {
     "data": {
      "image/png": "[encoded data removed]",
      "text/plain": [
       "<Figure size 432x288 with 1 Axes>"
      ]
     },
     "metadata": {
      "needs_background": "light"
     },
     "output_type": "display_data"
    }
   ],
   "source": [
    "#histogram / distribution\n",
    "plt.hist(MAPE_table, bins = [0, 1, 2, 3, 4, 5, 6, 7, 8, 9, 10, 11, 12, 13, 14, 15, 16, 17, 18])"
   ]
  },
  {
   "cell_type": "code",
   "execution_count": 203,
   "id": "f4053dda",
   "metadata": {},
   "outputs": [
    {
     "name": "stdout",
     "output_type": "stream",
     "text": [
      "MAPE is  11.515590702045733  for the symbol  AMD  for the company  AMD\n",
      "MAPE is  10.731997442129604  for the symbol  MSFT  for the company  Microsoft\n",
      "MAPE is  16.169206861242273  for the symbol  TME  for the company  Tencent\n"
     ]
    }
   ],
   "source": [
    "#Who are the Good forecast companies?\n",
    "ALL_symbols = []\n",
    "ALL_symbols.extend(tech_symbols)\n",
    "ALL_symbols.extend(automobile_symbols)\n",
    "ALL_symbols.extend(fashion_symbols)\n",
    "ALL_symbols.extend(finance_symbols)\n",
    "\n",
    "ALL_companies = []\n",
    "ALL_companies.extend(companies_tech)\n",
    "ALL_companies.extend(companies_automobile)\n",
    "ALL_companies.extend(companies_fashion)\n",
    "ALL_companies.extend(companies_finance)\n",
    "for i in range(len(MAPE_table)):\n",
    "    if MAPE_table[i] >= 10:\n",
    "        print(\"MAPE is \", MAPE_table[i], \" for the symbol \", ALL_symbols[i],\n",
    "             \" for the company \",ALL_companies[i])"
   ]
  },
  {
   "cell_type": "code",
   "execution_count": null,
   "id": "f6fd43d9",
   "metadata": {},
   "outputs": [],
   "source": []
  }
 ],
 "metadata": {
  "kernelspec": {
   "display_name": "Python 3",
   "language": "python",
   "name": "python3"
  },
  "language_info": {
   "codemirror_mode": {
    "name": "ipython",
    "version": 3
   },
   "file_extension": ".py",
   "mimetype": "text/x-python",
   "name": "python",
   "nbconvert_exporter": "python",
   "pygments_lexer": "ipython3",
   "version": "3.8.8"
  }
 },
 "nbformat": 4,
 "nbformat_minor": 5
}
